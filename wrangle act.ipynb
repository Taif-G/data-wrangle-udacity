{
 "cells": [
  {
   "cell_type": "code",
   "execution_count": 181,
   "metadata": {},
   "outputs": [],
   "source": [
    "import pandas as pd\n",
    "import numpy as np\n",
    "import matplotlib.pyplot as plt\n",
    "%matplotlib inline\n",
    "import requests\n",
    "import seaborn as sns\n",
    "import json\n",
    "import tweepy"
   ]
  },
  {
   "cell_type": "markdown",
   "metadata": {},
   "source": [
    "# Data gathering\n",
    "1. locally stored twitter-archive-enhanced.csv\n",
    "2. Downloading https://d17h27t6h515a5.cloudfront.net/topher/2017/August/599fd2ad_image-predictions/image-predictions.tsv\n",
    "3. Get additional information using Python's Tweepy library e.g. retweet count, likes\n",
    "4. Each tweet's JSON data should be written to its own line. Then read this .txt file line by line into a pandas DataFrame with (at minimum) tweet ID, retweet count, and favorite count."
   ]
  },
  {
   "cell_type": "code",
   "execution_count": 182,
   "metadata": {},
   "outputs": [
    {
     "data": {
      "text/html": [
       "<div>\n",
       "<style scoped>\n",
       "    .dataframe tbody tr th:only-of-type {\n",
       "        vertical-align: middle;\n",
       "    }\n",
       "\n",
       "    .dataframe tbody tr th {\n",
       "        vertical-align: top;\n",
       "    }\n",
       "\n",
       "    .dataframe thead th {\n",
       "        text-align: right;\n",
       "    }\n",
       "</style>\n",
       "<table border=\"1\" class=\"dataframe\">\n",
       "  <thead>\n",
       "    <tr style=\"text-align: right;\">\n",
       "      <th></th>\n",
       "      <th>tweet_id</th>\n",
       "      <th>in_reply_to_status_id</th>\n",
       "      <th>in_reply_to_user_id</th>\n",
       "      <th>timestamp</th>\n",
       "      <th>source</th>\n",
       "      <th>text</th>\n",
       "      <th>retweeted_status_id</th>\n",
       "      <th>retweeted_status_user_id</th>\n",
       "      <th>retweeted_status_timestamp</th>\n",
       "      <th>expanded_urls</th>\n",
       "      <th>rating_numerator</th>\n",
       "      <th>rating_denominator</th>\n",
       "      <th>name</th>\n",
       "      <th>doggo</th>\n",
       "      <th>floofer</th>\n",
       "      <th>pupper</th>\n",
       "      <th>puppo</th>\n",
       "    </tr>\n",
       "  </thead>\n",
       "  <tbody>\n",
       "    <tr>\n",
       "      <th>0</th>\n",
       "      <td>892420643555336193</td>\n",
       "      <td>NaN</td>\n",
       "      <td>NaN</td>\n",
       "      <td>2017-08-01 16:23:56 +0000</td>\n",
       "      <td>&lt;a href=\"http://twitter.com/download/iphone\" rel=\"nofollow\"&gt;Twitter for iPhone&lt;/a&gt;</td>\n",
       "      <td>This is Phineas. He's a mystical boy. Only ever appears in the hole of a donut. 13/10 https://t.co/MgUWQ76dJU</td>\n",
       "      <td>NaN</td>\n",
       "      <td>NaN</td>\n",
       "      <td>NaN</td>\n",
       "      <td>https://twitter.com/dog_rates/status/892420643555336193/photo/1</td>\n",
       "      <td>13</td>\n",
       "      <td>10</td>\n",
       "      <td>Phineas</td>\n",
       "      <td>None</td>\n",
       "      <td>None</td>\n",
       "      <td>None</td>\n",
       "      <td>None</td>\n",
       "    </tr>\n",
       "    <tr>\n",
       "      <th>1</th>\n",
       "      <td>892177421306343426</td>\n",
       "      <td>NaN</td>\n",
       "      <td>NaN</td>\n",
       "      <td>2017-08-01 00:17:27 +0000</td>\n",
       "      <td>&lt;a href=\"http://twitter.com/download/iphone\" rel=\"nofollow\"&gt;Twitter for iPhone&lt;/a&gt;</td>\n",
       "      <td>This is Tilly. She's just checking pup on you. Hopes you're doing ok. If not, she's available for pats, snugs, boops, the whole bit. 13/10 https://t.co/0Xxu71qeIV</td>\n",
       "      <td>NaN</td>\n",
       "      <td>NaN</td>\n",
       "      <td>NaN</td>\n",
       "      <td>https://twitter.com/dog_rates/status/892177421306343426/photo/1</td>\n",
       "      <td>13</td>\n",
       "      <td>10</td>\n",
       "      <td>Tilly</td>\n",
       "      <td>None</td>\n",
       "      <td>None</td>\n",
       "      <td>None</td>\n",
       "      <td>None</td>\n",
       "    </tr>\n",
       "    <tr>\n",
       "      <th>2</th>\n",
       "      <td>891815181378084864</td>\n",
       "      <td>NaN</td>\n",
       "      <td>NaN</td>\n",
       "      <td>2017-07-31 00:18:03 +0000</td>\n",
       "      <td>&lt;a href=\"http://twitter.com/download/iphone\" rel=\"nofollow\"&gt;Twitter for iPhone&lt;/a&gt;</td>\n",
       "      <td>This is Archie. He is a rare Norwegian Pouncing Corgo. Lives in the tall grass. You never know when one may strike. 12/10 https://t.co/wUnZnhtVJB</td>\n",
       "      <td>NaN</td>\n",
       "      <td>NaN</td>\n",
       "      <td>NaN</td>\n",
       "      <td>https://twitter.com/dog_rates/status/891815181378084864/photo/1</td>\n",
       "      <td>12</td>\n",
       "      <td>10</td>\n",
       "      <td>Archie</td>\n",
       "      <td>None</td>\n",
       "      <td>None</td>\n",
       "      <td>None</td>\n",
       "      <td>None</td>\n",
       "    </tr>\n",
       "    <tr>\n",
       "      <th>3</th>\n",
       "      <td>891689557279858688</td>\n",
       "      <td>NaN</td>\n",
       "      <td>NaN</td>\n",
       "      <td>2017-07-30 15:58:51 +0000</td>\n",
       "      <td>&lt;a href=\"http://twitter.com/download/iphone\" rel=\"nofollow\"&gt;Twitter for iPhone&lt;/a&gt;</td>\n",
       "      <td>This is Darla. She commenced a snooze mid meal. 13/10 happens to the best of us https://t.co/tD36da7qLQ</td>\n",
       "      <td>NaN</td>\n",
       "      <td>NaN</td>\n",
       "      <td>NaN</td>\n",
       "      <td>https://twitter.com/dog_rates/status/891689557279858688/photo/1</td>\n",
       "      <td>13</td>\n",
       "      <td>10</td>\n",
       "      <td>Darla</td>\n",
       "      <td>None</td>\n",
       "      <td>None</td>\n",
       "      <td>None</td>\n",
       "      <td>None</td>\n",
       "    </tr>\n",
       "    <tr>\n",
       "      <th>4</th>\n",
       "      <td>891327558926688256</td>\n",
       "      <td>NaN</td>\n",
       "      <td>NaN</td>\n",
       "      <td>2017-07-29 16:00:24 +0000</td>\n",
       "      <td>&lt;a href=\"http://twitter.com/download/iphone\" rel=\"nofollow\"&gt;Twitter for iPhone&lt;/a&gt;</td>\n",
       "      <td>This is Franklin. He would like you to stop calling him \"cute.\" He is a very fierce shark and should be respected as such. 12/10 #BarkWeek https://t.co/AtUZn91f7f</td>\n",
       "      <td>NaN</td>\n",
       "      <td>NaN</td>\n",
       "      <td>NaN</td>\n",
       "      <td>https://twitter.com/dog_rates/status/891327558926688256/photo/1,https://twitter.com/dog_rates/status/891327558926688256/photo/1</td>\n",
       "      <td>12</td>\n",
       "      <td>10</td>\n",
       "      <td>Franklin</td>\n",
       "      <td>None</td>\n",
       "      <td>None</td>\n",
       "      <td>None</td>\n",
       "      <td>None</td>\n",
       "    </tr>\n",
       "    <tr>\n",
       "      <th>...</th>\n",
       "      <td>...</td>\n",
       "      <td>...</td>\n",
       "      <td>...</td>\n",
       "      <td>...</td>\n",
       "      <td>...</td>\n",
       "      <td>...</td>\n",
       "      <td>...</td>\n",
       "      <td>...</td>\n",
       "      <td>...</td>\n",
       "      <td>...</td>\n",
       "      <td>...</td>\n",
       "      <td>...</td>\n",
       "      <td>...</td>\n",
       "      <td>...</td>\n",
       "      <td>...</td>\n",
       "      <td>...</td>\n",
       "      <td>...</td>\n",
       "    </tr>\n",
       "    <tr>\n",
       "      <th>2351</th>\n",
       "      <td>666049248165822465</td>\n",
       "      <td>NaN</td>\n",
       "      <td>NaN</td>\n",
       "      <td>2015-11-16 00:24:50 +0000</td>\n",
       "      <td>&lt;a href=\"http://twitter.com/download/iphone\" rel=\"nofollow\"&gt;Twitter for iPhone&lt;/a&gt;</td>\n",
       "      <td>Here we have a 1949 1st generation vulpix. Enjoys sweat tea and Fox News. Cannot be phased. 5/10 https://t.co/4B7cOc1EDq</td>\n",
       "      <td>NaN</td>\n",
       "      <td>NaN</td>\n",
       "      <td>NaN</td>\n",
       "      <td>https://twitter.com/dog_rates/status/666049248165822465/photo/1</td>\n",
       "      <td>5</td>\n",
       "      <td>10</td>\n",
       "      <td>None</td>\n",
       "      <td>None</td>\n",
       "      <td>None</td>\n",
       "      <td>None</td>\n",
       "      <td>None</td>\n",
       "    </tr>\n",
       "    <tr>\n",
       "      <th>2352</th>\n",
       "      <td>666044226329800704</td>\n",
       "      <td>NaN</td>\n",
       "      <td>NaN</td>\n",
       "      <td>2015-11-16 00:04:52 +0000</td>\n",
       "      <td>&lt;a href=\"http://twitter.com/download/iphone\" rel=\"nofollow\"&gt;Twitter for iPhone&lt;/a&gt;</td>\n",
       "      <td>This is a purebred Piers Morgan. Loves to Netflix and chill. Always looks like he forgot to unplug the iron. 6/10 https://t.co/DWnyCjf2mx</td>\n",
       "      <td>NaN</td>\n",
       "      <td>NaN</td>\n",
       "      <td>NaN</td>\n",
       "      <td>https://twitter.com/dog_rates/status/666044226329800704/photo/1</td>\n",
       "      <td>6</td>\n",
       "      <td>10</td>\n",
       "      <td>a</td>\n",
       "      <td>None</td>\n",
       "      <td>None</td>\n",
       "      <td>None</td>\n",
       "      <td>None</td>\n",
       "    </tr>\n",
       "    <tr>\n",
       "      <th>2353</th>\n",
       "      <td>666033412701032449</td>\n",
       "      <td>NaN</td>\n",
       "      <td>NaN</td>\n",
       "      <td>2015-11-15 23:21:54 +0000</td>\n",
       "      <td>&lt;a href=\"http://twitter.com/download/iphone\" rel=\"nofollow\"&gt;Twitter for iPhone&lt;/a&gt;</td>\n",
       "      <td>Here is a very happy pup. Big fan of well-maintained decks. Just look at that tongue. 9/10 would cuddle af https://t.co/y671yMhoiR</td>\n",
       "      <td>NaN</td>\n",
       "      <td>NaN</td>\n",
       "      <td>NaN</td>\n",
       "      <td>https://twitter.com/dog_rates/status/666033412701032449/photo/1</td>\n",
       "      <td>9</td>\n",
       "      <td>10</td>\n",
       "      <td>a</td>\n",
       "      <td>None</td>\n",
       "      <td>None</td>\n",
       "      <td>None</td>\n",
       "      <td>None</td>\n",
       "    </tr>\n",
       "    <tr>\n",
       "      <th>2354</th>\n",
       "      <td>666029285002620928</td>\n",
       "      <td>NaN</td>\n",
       "      <td>NaN</td>\n",
       "      <td>2015-11-15 23:05:30 +0000</td>\n",
       "      <td>&lt;a href=\"http://twitter.com/download/iphone\" rel=\"nofollow\"&gt;Twitter for iPhone&lt;/a&gt;</td>\n",
       "      <td>This is a western brown Mitsubishi terrier. Upset about leaf. Actually 2 dogs here. 7/10 would walk the shit out of https://t.co/r7mOb2m0UI</td>\n",
       "      <td>NaN</td>\n",
       "      <td>NaN</td>\n",
       "      <td>NaN</td>\n",
       "      <td>https://twitter.com/dog_rates/status/666029285002620928/photo/1</td>\n",
       "      <td>7</td>\n",
       "      <td>10</td>\n",
       "      <td>a</td>\n",
       "      <td>None</td>\n",
       "      <td>None</td>\n",
       "      <td>None</td>\n",
       "      <td>None</td>\n",
       "    </tr>\n",
       "    <tr>\n",
       "      <th>2355</th>\n",
       "      <td>666020888022790149</td>\n",
       "      <td>NaN</td>\n",
       "      <td>NaN</td>\n",
       "      <td>2015-11-15 22:32:08 +0000</td>\n",
       "      <td>&lt;a href=\"http://twitter.com/download/iphone\" rel=\"nofollow\"&gt;Twitter for iPhone&lt;/a&gt;</td>\n",
       "      <td>Here we have a Japanese Irish Setter. Lost eye in Vietnam (?). Big fan of relaxing on stair. 8/10 would pet https://t.co/BLDqew2Ijj</td>\n",
       "      <td>NaN</td>\n",
       "      <td>NaN</td>\n",
       "      <td>NaN</td>\n",
       "      <td>https://twitter.com/dog_rates/status/666020888022790149/photo/1</td>\n",
       "      <td>8</td>\n",
       "      <td>10</td>\n",
       "      <td>None</td>\n",
       "      <td>None</td>\n",
       "      <td>None</td>\n",
       "      <td>None</td>\n",
       "      <td>None</td>\n",
       "    </tr>\n",
       "  </tbody>\n",
       "</table>\n",
       "<p>2356 rows × 17 columns</p>\n",
       "</div>"
      ],
      "text/plain": [
       "                tweet_id  in_reply_to_status_id  in_reply_to_user_id                  timestamp                                                                              source                                                                                                                                                                text  retweeted_status_id  retweeted_status_user_id retweeted_status_timestamp                                                                                                                    expanded_urls  rating_numerator  rating_denominator      name doggo floofer pupper puppo\n",
       "0     892420643555336193                    NaN                  NaN  2017-08-01 16:23:56 +0000  <a href=\"http://twitter.com/download/iphone\" rel=\"nofollow\">Twitter for iPhone</a>                                                       This is Phineas. He's a mystical boy. Only ever appears in the hole of a donut. 13/10 https://t.co/MgUWQ76dJU                  NaN                       NaN                        NaN                                                                  https://twitter.com/dog_rates/status/892420643555336193/photo/1                13                  10   Phineas  None    None   None  None\n",
       "1     892177421306343426                    NaN                  NaN  2017-08-01 00:17:27 +0000  <a href=\"http://twitter.com/download/iphone\" rel=\"nofollow\">Twitter for iPhone</a>  This is Tilly. She's just checking pup on you. Hopes you're doing ok. If not, she's available for pats, snugs, boops, the whole bit. 13/10 https://t.co/0Xxu71qeIV                  NaN                       NaN                        NaN                                                                  https://twitter.com/dog_rates/status/892177421306343426/photo/1                13                  10     Tilly  None    None   None  None\n",
       "2     891815181378084864                    NaN                  NaN  2017-07-31 00:18:03 +0000  <a href=\"http://twitter.com/download/iphone\" rel=\"nofollow\">Twitter for iPhone</a>                   This is Archie. He is a rare Norwegian Pouncing Corgo. Lives in the tall grass. You never know when one may strike. 12/10 https://t.co/wUnZnhtVJB                  NaN                       NaN                        NaN                                                                  https://twitter.com/dog_rates/status/891815181378084864/photo/1                12                  10    Archie  None    None   None  None\n",
       "3     891689557279858688                    NaN                  NaN  2017-07-30 15:58:51 +0000  <a href=\"http://twitter.com/download/iphone\" rel=\"nofollow\">Twitter for iPhone</a>                                                             This is Darla. She commenced a snooze mid meal. 13/10 happens to the best of us https://t.co/tD36da7qLQ                  NaN                       NaN                        NaN                                                                  https://twitter.com/dog_rates/status/891689557279858688/photo/1                13                  10     Darla  None    None   None  None\n",
       "4     891327558926688256                    NaN                  NaN  2017-07-29 16:00:24 +0000  <a href=\"http://twitter.com/download/iphone\" rel=\"nofollow\">Twitter for iPhone</a>  This is Franklin. He would like you to stop calling him \"cute.\" He is a very fierce shark and should be respected as such. 12/10 #BarkWeek https://t.co/AtUZn91f7f                  NaN                       NaN                        NaN  https://twitter.com/dog_rates/status/891327558926688256/photo/1,https://twitter.com/dog_rates/status/891327558926688256/photo/1                12                  10  Franklin  None    None   None  None\n",
       "...                  ...                    ...                  ...                        ...                                                                                 ...                                                                                                                                                                 ...                  ...                       ...                        ...                                                                                                                              ...               ...                 ...       ...   ...     ...    ...   ...\n",
       "2351  666049248165822465                    NaN                  NaN  2015-11-16 00:24:50 +0000  <a href=\"http://twitter.com/download/iphone\" rel=\"nofollow\">Twitter for iPhone</a>                                            Here we have a 1949 1st generation vulpix. Enjoys sweat tea and Fox News. Cannot be phased. 5/10 https://t.co/4B7cOc1EDq                  NaN                       NaN                        NaN                                                                  https://twitter.com/dog_rates/status/666049248165822465/photo/1                 5                  10      None  None    None   None  None\n",
       "2352  666044226329800704                    NaN                  NaN  2015-11-16 00:04:52 +0000  <a href=\"http://twitter.com/download/iphone\" rel=\"nofollow\">Twitter for iPhone</a>                           This is a purebred Piers Morgan. Loves to Netflix and chill. Always looks like he forgot to unplug the iron. 6/10 https://t.co/DWnyCjf2mx                  NaN                       NaN                        NaN                                                                  https://twitter.com/dog_rates/status/666044226329800704/photo/1                 6                  10         a  None    None   None  None\n",
       "2353  666033412701032449                    NaN                  NaN  2015-11-15 23:21:54 +0000  <a href=\"http://twitter.com/download/iphone\" rel=\"nofollow\">Twitter for iPhone</a>                                  Here is a very happy pup. Big fan of well-maintained decks. Just look at that tongue. 9/10 would cuddle af https://t.co/y671yMhoiR                  NaN                       NaN                        NaN                                                                  https://twitter.com/dog_rates/status/666033412701032449/photo/1                 9                  10         a  None    None   None  None\n",
       "2354  666029285002620928                    NaN                  NaN  2015-11-15 23:05:30 +0000  <a href=\"http://twitter.com/download/iphone\" rel=\"nofollow\">Twitter for iPhone</a>                         This is a western brown Mitsubishi terrier. Upset about leaf. Actually 2 dogs here. 7/10 would walk the shit out of https://t.co/r7mOb2m0UI                  NaN                       NaN                        NaN                                                                  https://twitter.com/dog_rates/status/666029285002620928/photo/1                 7                  10         a  None    None   None  None\n",
       "2355  666020888022790149                    NaN                  NaN  2015-11-15 22:32:08 +0000  <a href=\"http://twitter.com/download/iphone\" rel=\"nofollow\">Twitter for iPhone</a>                                 Here we have a Japanese Irish Setter. Lost eye in Vietnam (?). Big fan of relaxing on stair. 8/10 would pet https://t.co/BLDqew2Ijj                  NaN                       NaN                        NaN                                                                  https://twitter.com/dog_rates/status/666020888022790149/photo/1                 8                  10      None  None    None   None  None\n",
       "\n",
       "[2356 rows x 17 columns]"
      ]
     },
     "execution_count": 182,
     "metadata": {},
     "output_type": "execute_result"
    }
   ],
   "source": [
    "#the first source of data by use read_csv()\n",
    "archive_df= pd.read_csv('twitter-archive-enhanced-2.csv')\n",
    "archive_df"
   ]
  },
  {
   "cell_type": "code",
   "execution_count": 183,
   "metadata": {},
   "outputs": [
    {
     "data": {
      "text/html": [
       "<div>\n",
       "<style scoped>\n",
       "    .dataframe tbody tr th:only-of-type {\n",
       "        vertical-align: middle;\n",
       "    }\n",
       "\n",
       "    .dataframe tbody tr th {\n",
       "        vertical-align: top;\n",
       "    }\n",
       "\n",
       "    .dataframe thead th {\n",
       "        text-align: right;\n",
       "    }\n",
       "</style>\n",
       "<table border=\"1\" class=\"dataframe\">\n",
       "  <thead>\n",
       "    <tr style=\"text-align: right;\">\n",
       "      <th></th>\n",
       "      <th>tweet_id</th>\n",
       "      <th>jpg_url</th>\n",
       "      <th>img_num</th>\n",
       "      <th>p1</th>\n",
       "      <th>p1_conf</th>\n",
       "      <th>p1_dog</th>\n",
       "      <th>p2</th>\n",
       "      <th>p2_conf</th>\n",
       "      <th>p2_dog</th>\n",
       "      <th>p3</th>\n",
       "      <th>p3_conf</th>\n",
       "      <th>p3_dog</th>\n",
       "    </tr>\n",
       "  </thead>\n",
       "  <tbody>\n",
       "    <tr>\n",
       "      <th>0</th>\n",
       "      <td>666020888022790149</td>\n",
       "      <td>https://pbs.twimg.com/media/CT4udn0WwAA0aMy.jpg</td>\n",
       "      <td>1</td>\n",
       "      <td>Welsh_springer_spaniel</td>\n",
       "      <td>0.465074</td>\n",
       "      <td>True</td>\n",
       "      <td>collie</td>\n",
       "      <td>0.156665</td>\n",
       "      <td>True</td>\n",
       "      <td>Shetland_sheepdog</td>\n",
       "      <td>0.061428</td>\n",
       "      <td>True</td>\n",
       "    </tr>\n",
       "    <tr>\n",
       "      <th>1</th>\n",
       "      <td>666029285002620928</td>\n",
       "      <td>https://pbs.twimg.com/media/CT42GRgUYAA5iDo.jpg</td>\n",
       "      <td>1</td>\n",
       "      <td>redbone</td>\n",
       "      <td>0.506826</td>\n",
       "      <td>True</td>\n",
       "      <td>miniature_pinscher</td>\n",
       "      <td>0.074192</td>\n",
       "      <td>True</td>\n",
       "      <td>Rhodesian_ridgeback</td>\n",
       "      <td>0.072010</td>\n",
       "      <td>True</td>\n",
       "    </tr>\n",
       "    <tr>\n",
       "      <th>2</th>\n",
       "      <td>666033412701032449</td>\n",
       "      <td>https://pbs.twimg.com/media/CT4521TWwAEvMyu.jpg</td>\n",
       "      <td>1</td>\n",
       "      <td>German_shepherd</td>\n",
       "      <td>0.596461</td>\n",
       "      <td>True</td>\n",
       "      <td>malinois</td>\n",
       "      <td>0.138584</td>\n",
       "      <td>True</td>\n",
       "      <td>bloodhound</td>\n",
       "      <td>0.116197</td>\n",
       "      <td>True</td>\n",
       "    </tr>\n",
       "    <tr>\n",
       "      <th>3</th>\n",
       "      <td>666044226329800704</td>\n",
       "      <td>https://pbs.twimg.com/media/CT5Dr8HUEAA-lEu.jpg</td>\n",
       "      <td>1</td>\n",
       "      <td>Rhodesian_ridgeback</td>\n",
       "      <td>0.408143</td>\n",
       "      <td>True</td>\n",
       "      <td>redbone</td>\n",
       "      <td>0.360687</td>\n",
       "      <td>True</td>\n",
       "      <td>miniature_pinscher</td>\n",
       "      <td>0.222752</td>\n",
       "      <td>True</td>\n",
       "    </tr>\n",
       "    <tr>\n",
       "      <th>4</th>\n",
       "      <td>666049248165822465</td>\n",
       "      <td>https://pbs.twimg.com/media/CT5IQmsXIAAKY4A.jpg</td>\n",
       "      <td>1</td>\n",
       "      <td>miniature_pinscher</td>\n",
       "      <td>0.560311</td>\n",
       "      <td>True</td>\n",
       "      <td>Rottweiler</td>\n",
       "      <td>0.243682</td>\n",
       "      <td>True</td>\n",
       "      <td>Doberman</td>\n",
       "      <td>0.154629</td>\n",
       "      <td>True</td>\n",
       "    </tr>\n",
       "  </tbody>\n",
       "</table>\n",
       "</div>"
      ],
      "text/plain": [
       "             tweet_id                                          jpg_url  img_num                      p1   p1_conf  p1_dog                  p2   p2_conf  p2_dog                   p3   p3_conf  p3_dog\n",
       "0  666020888022790149  https://pbs.twimg.com/media/CT4udn0WwAA0aMy.jpg        1  Welsh_springer_spaniel  0.465074    True              collie  0.156665    True    Shetland_sheepdog  0.061428    True\n",
       "1  666029285002620928  https://pbs.twimg.com/media/CT42GRgUYAA5iDo.jpg        1                 redbone  0.506826    True  miniature_pinscher  0.074192    True  Rhodesian_ridgeback  0.072010    True\n",
       "2  666033412701032449  https://pbs.twimg.com/media/CT4521TWwAEvMyu.jpg        1         German_shepherd  0.596461    True            malinois  0.138584    True           bloodhound  0.116197    True\n",
       "3  666044226329800704  https://pbs.twimg.com/media/CT5Dr8HUEAA-lEu.jpg        1     Rhodesian_ridgeback  0.408143    True             redbone  0.360687    True   miniature_pinscher  0.222752    True\n",
       "4  666049248165822465  https://pbs.twimg.com/media/CT5IQmsXIAAKY4A.jpg        1      miniature_pinscher  0.560311    True          Rottweiler  0.243682    True             Doberman  0.154629    True"
      ]
     },
     "execution_count": 183,
     "metadata": {},
     "output_type": "execute_result"
    }
   ],
   "source": [
    "#download the image prediction file programmatically using requests library.\n",
    "url='https://d17h27t6h515a5.cloudfront.net/topher/2017/August/599fd2ad_image-predictions/image-predictions.tsv'\n",
    "response= requests.get(url)\n",
    "with open ('image_predictions.tsv', 'wb') as file:\n",
    "    file.write(response.content)\n",
    "image_prediction_df =pd.read_csv('image_predictions.tsv', sep='\\t')\n",
    "image_prediction_df.head()"
   ]
  },
  {
   "cell_type": "code",
   "execution_count": 184,
   "metadata": {},
   "outputs": [],
   "source": [
    "consumer_key = 'XXXXX'\n",
    "consumer_secret = 'XXXXX'\n",
    "access_token = 'XXXXX'\n",
    "access_secret = 'XXXXX'\n",
    "\n",
    "auth = tweepy.OAuthHandler(consumer_key, consumer_secret)\n",
    "auth.set_access_token(access_token, access_secret)\n",
    "\n",
    "api = tweepy.API(auth)\n",
    "\n",
    "\n",
    "def extract_tweet_status_info(text_file):\n",
    "    retweet_count_list=[]\n",
    "    favorite_count_list=[]\n",
    "    id_list=[]\n",
    "    for line in text_file:\n",
    "        json_content = json.loads(line)\n",
    "        retweet_count_list.append(json_content['retweet_count'])\n",
    "        favorite_count_list.append(json_content['favorite_count'])\n",
    "        id_list.append(json_content['id'])\n",
    "    d={'retweet_count': retweet_count_list, 'favorite_count':favorite_count_list, 'tweet_id': id_list}\n",
    "    return pd.DataFrame(d)"
   ]
  },
  {
   "cell_type": "code",
   "execution_count": 185,
   "metadata": {},
   "outputs": [
    {
     "data": {
      "text/html": [
       "<div>\n",
       "<style scoped>\n",
       "    .dataframe tbody tr th:only-of-type {\n",
       "        vertical-align: middle;\n",
       "    }\n",
       "\n",
       "    .dataframe tbody tr th {\n",
       "        vertical-align: top;\n",
       "    }\n",
       "\n",
       "    .dataframe thead th {\n",
       "        text-align: right;\n",
       "    }\n",
       "</style>\n",
       "<table border=\"1\" class=\"dataframe\">\n",
       "  <thead>\n",
       "    <tr style=\"text-align: right;\">\n",
       "      <th></th>\n",
       "      <th>retweet_count</th>\n",
       "      <th>favorite_count</th>\n",
       "      <th>tweet_id</th>\n",
       "    </tr>\n",
       "  </thead>\n",
       "  <tbody>\n",
       "    <tr>\n",
       "      <th>0</th>\n",
       "      <td>8853</td>\n",
       "      <td>39467</td>\n",
       "      <td>892420643555336193</td>\n",
       "    </tr>\n",
       "    <tr>\n",
       "      <th>1</th>\n",
       "      <td>6514</td>\n",
       "      <td>33819</td>\n",
       "      <td>892177421306343426</td>\n",
       "    </tr>\n",
       "    <tr>\n",
       "      <th>2</th>\n",
       "      <td>4328</td>\n",
       "      <td>25461</td>\n",
       "      <td>891815181378084864</td>\n",
       "    </tr>\n",
       "    <tr>\n",
       "      <th>3</th>\n",
       "      <td>8964</td>\n",
       "      <td>42908</td>\n",
       "      <td>891689557279858688</td>\n",
       "    </tr>\n",
       "    <tr>\n",
       "      <th>4</th>\n",
       "      <td>9774</td>\n",
       "      <td>41048</td>\n",
       "      <td>891327558926688256</td>\n",
       "    </tr>\n",
       "  </tbody>\n",
       "</table>\n",
       "</div>"
      ],
      "text/plain": [
       "   retweet_count  favorite_count            tweet_id\n",
       "0           8853           39467  892420643555336193\n",
       "1           6514           33819  892177421306343426\n",
       "2           4328           25461  891815181378084864\n",
       "3           8964           42908  891689557279858688\n",
       "4           9774           41048  891327558926688256"
      ]
     },
     "execution_count": 185,
     "metadata": {},
     "output_type": "execute_result"
    }
   ],
   "source": [
    "# Loading downloaded tweet_json_copy.txt in to a data frame\n",
    "with open('tweet-json', 'r') as tweet_file_copy:\n",
    "    api_tweet_df = extract_tweet_status_info(tweet_file_copy)\n",
    "\n",
    "api_tweet_df.head()"
   ]
  },
  {
   "cell_type": "markdown",
   "metadata": {},
   "source": [
    "# Assess Data\n",
    "> In this section I assess the data that was gathered, both visually and programmatically for quality and tidiness issues. One of the key points for the analysis requires that only tweets with original ratings with images, no retweets, be retained.\n",
    "\n",
    "> The quality of data is assessed against dimensions or criteria concerning the content: completeness, validity, accuracy and consistency."
   ]
  },
  {
   "cell_type": "markdown",
   "metadata": {},
   "source": [
    "## Assess tweeter archive"
   ]
  },
  {
   "cell_type": "code",
   "execution_count": 186,
   "metadata": {},
   "outputs": [
    {
     "name": "stdout",
     "output_type": "stream",
     "text": [
      "<class 'pandas.core.frame.DataFrame'>\n",
      "RangeIndex: 2356 entries, 0 to 2355\n",
      "Data columns (total 17 columns):\n",
      " #   Column                      Non-Null Count  Dtype  \n",
      "---  ------                      --------------  -----  \n",
      " 0   tweet_id                    2356 non-null   int64  \n",
      " 1   in_reply_to_status_id       78 non-null     float64\n",
      " 2   in_reply_to_user_id         78 non-null     float64\n",
      " 3   timestamp                   2356 non-null   object \n",
      " 4   source                      2356 non-null   object \n",
      " 5   text                        2356 non-null   object \n",
      " 6   retweeted_status_id         181 non-null    float64\n",
      " 7   retweeted_status_user_id    181 non-null    float64\n",
      " 8   retweeted_status_timestamp  181 non-null    object \n",
      " 9   expanded_urls               2297 non-null   object \n",
      " 10  rating_numerator            2356 non-null   int64  \n",
      " 11  rating_denominator          2356 non-null   int64  \n",
      " 12  name                        2356 non-null   object \n",
      " 13  doggo                       2356 non-null   object \n",
      " 14  floofer                     2356 non-null   object \n",
      " 15  pupper                      2356 non-null   object \n",
      " 16  puppo                       2356 non-null   object \n",
      "dtypes: float64(4), int64(3), object(10)\n",
      "memory usage: 313.0+ KB\n"
     ]
    }
   ],
   "source": [
    "archive_df.info()"
   ]
  },
  {
   "cell_type": "code",
   "execution_count": 187,
   "metadata": {},
   "outputs": [
    {
     "data": {
      "text/plain": [
       "0"
      ]
     },
     "execution_count": 187,
     "metadata": {},
     "output_type": "execute_result"
    }
   ],
   "source": [
    "archive_df.duplicated().sum()"
   ]
  },
  {
   "cell_type": "code",
   "execution_count": 188,
   "metadata": {},
   "outputs": [
    {
     "data": {
      "text/html": [
       "<div>\n",
       "<style scoped>\n",
       "    .dataframe tbody tr th:only-of-type {\n",
       "        vertical-align: middle;\n",
       "    }\n",
       "\n",
       "    .dataframe tbody tr th {\n",
       "        vertical-align: top;\n",
       "    }\n",
       "\n",
       "    .dataframe thead th {\n",
       "        text-align: right;\n",
       "    }\n",
       "</style>\n",
       "<table border=\"1\" class=\"dataframe\">\n",
       "  <thead>\n",
       "    <tr style=\"text-align: right;\">\n",
       "      <th></th>\n",
       "      <th>tweet_id</th>\n",
       "      <th>in_reply_to_status_id</th>\n",
       "      <th>in_reply_to_user_id</th>\n",
       "      <th>retweeted_status_id</th>\n",
       "      <th>retweeted_status_user_id</th>\n",
       "      <th>rating_numerator</th>\n",
       "      <th>rating_denominator</th>\n",
       "    </tr>\n",
       "  </thead>\n",
       "  <tbody>\n",
       "    <tr>\n",
       "      <th>count</th>\n",
       "      <td>2.356000e+03</td>\n",
       "      <td>7.800000e+01</td>\n",
       "      <td>7.800000e+01</td>\n",
       "      <td>1.810000e+02</td>\n",
       "      <td>1.810000e+02</td>\n",
       "      <td>2356.000000</td>\n",
       "      <td>2356.000000</td>\n",
       "    </tr>\n",
       "    <tr>\n",
       "      <th>mean</th>\n",
       "      <td>7.427716e+17</td>\n",
       "      <td>7.455079e+17</td>\n",
       "      <td>2.014171e+16</td>\n",
       "      <td>7.720400e+17</td>\n",
       "      <td>1.241698e+16</td>\n",
       "      <td>13.126486</td>\n",
       "      <td>10.455433</td>\n",
       "    </tr>\n",
       "    <tr>\n",
       "      <th>std</th>\n",
       "      <td>6.856705e+16</td>\n",
       "      <td>7.582492e+16</td>\n",
       "      <td>1.252797e+17</td>\n",
       "      <td>6.236928e+16</td>\n",
       "      <td>9.599254e+16</td>\n",
       "      <td>45.876648</td>\n",
       "      <td>6.745237</td>\n",
       "    </tr>\n",
       "    <tr>\n",
       "      <th>min</th>\n",
       "      <td>6.660209e+17</td>\n",
       "      <td>6.658147e+17</td>\n",
       "      <td>1.185634e+07</td>\n",
       "      <td>6.661041e+17</td>\n",
       "      <td>7.832140e+05</td>\n",
       "      <td>0.000000</td>\n",
       "      <td>0.000000</td>\n",
       "    </tr>\n",
       "    <tr>\n",
       "      <th>25%</th>\n",
       "      <td>6.783989e+17</td>\n",
       "      <td>6.757419e+17</td>\n",
       "      <td>3.086374e+08</td>\n",
       "      <td>7.186315e+17</td>\n",
       "      <td>4.196984e+09</td>\n",
       "      <td>10.000000</td>\n",
       "      <td>10.000000</td>\n",
       "    </tr>\n",
       "    <tr>\n",
       "      <th>50%</th>\n",
       "      <td>7.196279e+17</td>\n",
       "      <td>7.038708e+17</td>\n",
       "      <td>4.196984e+09</td>\n",
       "      <td>7.804657e+17</td>\n",
       "      <td>4.196984e+09</td>\n",
       "      <td>11.000000</td>\n",
       "      <td>10.000000</td>\n",
       "    </tr>\n",
       "    <tr>\n",
       "      <th>75%</th>\n",
       "      <td>7.993373e+17</td>\n",
       "      <td>8.257804e+17</td>\n",
       "      <td>4.196984e+09</td>\n",
       "      <td>8.203146e+17</td>\n",
       "      <td>4.196984e+09</td>\n",
       "      <td>12.000000</td>\n",
       "      <td>10.000000</td>\n",
       "    </tr>\n",
       "    <tr>\n",
       "      <th>max</th>\n",
       "      <td>8.924206e+17</td>\n",
       "      <td>8.862664e+17</td>\n",
       "      <td>8.405479e+17</td>\n",
       "      <td>8.874740e+17</td>\n",
       "      <td>7.874618e+17</td>\n",
       "      <td>1776.000000</td>\n",
       "      <td>170.000000</td>\n",
       "    </tr>\n",
       "  </tbody>\n",
       "</table>\n",
       "</div>"
      ],
      "text/plain": [
       "           tweet_id  in_reply_to_status_id  in_reply_to_user_id  retweeted_status_id  retweeted_status_user_id  rating_numerator  rating_denominator\n",
       "count  2.356000e+03           7.800000e+01         7.800000e+01         1.810000e+02              1.810000e+02       2356.000000         2356.000000\n",
       "mean   7.427716e+17           7.455079e+17         2.014171e+16         7.720400e+17              1.241698e+16         13.126486           10.455433\n",
       "std    6.856705e+16           7.582492e+16         1.252797e+17         6.236928e+16              9.599254e+16         45.876648            6.745237\n",
       "min    6.660209e+17           6.658147e+17         1.185634e+07         6.661041e+17              7.832140e+05          0.000000            0.000000\n",
       "25%    6.783989e+17           6.757419e+17         3.086374e+08         7.186315e+17              4.196984e+09         10.000000           10.000000\n",
       "50%    7.196279e+17           7.038708e+17         4.196984e+09         7.804657e+17              4.196984e+09         11.000000           10.000000\n",
       "75%    7.993373e+17           8.257804e+17         4.196984e+09         8.203146e+17              4.196984e+09         12.000000           10.000000\n",
       "max    8.924206e+17           8.862664e+17         8.405479e+17         8.874740e+17              7.874618e+17       1776.000000          170.000000"
      ]
     },
     "execution_count": 188,
     "metadata": {},
     "output_type": "execute_result"
    }
   ],
   "source": [
    "archive_df.describe()"
   ]
  },
  {
   "cell_type": "code",
   "execution_count": 189,
   "metadata": {},
   "outputs": [
    {
     "data": {
      "text/plain": [
       "tweet_id                         0\n",
       "in_reply_to_status_id         2278\n",
       "in_reply_to_user_id           2278\n",
       "timestamp                        0\n",
       "source                           0\n",
       "text                             0\n",
       "retweeted_status_id           2175\n",
       "retweeted_status_user_id      2175\n",
       "retweeted_status_timestamp    2175\n",
       "expanded_urls                   59\n",
       "rating_numerator                 0\n",
       "rating_denominator               0\n",
       "name                             0\n",
       "doggo                            0\n",
       "floofer                          0\n",
       "pupper                           0\n",
       "puppo                            0\n",
       "dtype: int64"
      ]
     },
     "execution_count": 189,
     "metadata": {},
     "output_type": "execute_result"
    }
   ],
   "source": [
    "archive_df.isnull().sum()"
   ]
  },
  {
   "cell_type": "code",
   "execution_count": 190,
   "metadata": {},
   "outputs": [
    {
     "data": {
      "text/plain": [
       "10     2333\n",
       "11        3\n",
       "50        3\n",
       "80        2\n",
       "20        2\n",
       "2         1\n",
       "16        1\n",
       "40        1\n",
       "70        1\n",
       "15        1\n",
       "90        1\n",
       "110       1\n",
       "120       1\n",
       "130       1\n",
       "150       1\n",
       "170       1\n",
       "7         1\n",
       "0         1\n",
       "Name: rating_denominator, dtype: int64"
      ]
     },
     "execution_count": 190,
     "metadata": {},
     "output_type": "execute_result"
    }
   ],
   "source": [
    "archive_df.rating_denominator.value_counts()"
   ]
  },
  {
   "cell_type": "markdown",
   "metadata": {},
   "source": [
    "## Assess image prediction"
   ]
  },
  {
   "cell_type": "code",
   "execution_count": 191,
   "metadata": {},
   "outputs": [
    {
     "name": "stdout",
     "output_type": "stream",
     "text": [
      "<class 'pandas.core.frame.DataFrame'>\n",
      "RangeIndex: 2075 entries, 0 to 2074\n",
      "Data columns (total 12 columns):\n",
      " #   Column    Non-Null Count  Dtype  \n",
      "---  ------    --------------  -----  \n",
      " 0   tweet_id  2075 non-null   int64  \n",
      " 1   jpg_url   2075 non-null   object \n",
      " 2   img_num   2075 non-null   int64  \n",
      " 3   p1        2075 non-null   object \n",
      " 4   p1_conf   2075 non-null   float64\n",
      " 5   p1_dog    2075 non-null   bool   \n",
      " 6   p2        2075 non-null   object \n",
      " 7   p2_conf   2075 non-null   float64\n",
      " 8   p2_dog    2075 non-null   bool   \n",
      " 9   p3        2075 non-null   object \n",
      " 10  p3_conf   2075 non-null   float64\n",
      " 11  p3_dog    2075 non-null   bool   \n",
      "dtypes: bool(3), float64(3), int64(2), object(4)\n",
      "memory usage: 152.1+ KB\n"
     ]
    }
   ],
   "source": [
    "image_prediction_df.info()"
   ]
  },
  {
   "cell_type": "code",
   "execution_count": 192,
   "metadata": {},
   "outputs": [
    {
     "data": {
      "text/html": [
       "<div>\n",
       "<style scoped>\n",
       "    .dataframe tbody tr th:only-of-type {\n",
       "        vertical-align: middle;\n",
       "    }\n",
       "\n",
       "    .dataframe tbody tr th {\n",
       "        vertical-align: top;\n",
       "    }\n",
       "\n",
       "    .dataframe thead th {\n",
       "        text-align: right;\n",
       "    }\n",
       "</style>\n",
       "<table border=\"1\" class=\"dataframe\">\n",
       "  <thead>\n",
       "    <tr style=\"text-align: right;\">\n",
       "      <th></th>\n",
       "      <th>tweet_id</th>\n",
       "      <th>img_num</th>\n",
       "      <th>p1_conf</th>\n",
       "      <th>p2_conf</th>\n",
       "      <th>p3_conf</th>\n",
       "    </tr>\n",
       "  </thead>\n",
       "  <tbody>\n",
       "    <tr>\n",
       "      <th>count</th>\n",
       "      <td>2.075000e+03</td>\n",
       "      <td>2075.000000</td>\n",
       "      <td>2075.000000</td>\n",
       "      <td>2.075000e+03</td>\n",
       "      <td>2.075000e+03</td>\n",
       "    </tr>\n",
       "    <tr>\n",
       "      <th>mean</th>\n",
       "      <td>7.384514e+17</td>\n",
       "      <td>1.203855</td>\n",
       "      <td>0.594548</td>\n",
       "      <td>1.345886e-01</td>\n",
       "      <td>6.032417e-02</td>\n",
       "    </tr>\n",
       "    <tr>\n",
       "      <th>std</th>\n",
       "      <td>6.785203e+16</td>\n",
       "      <td>0.561875</td>\n",
       "      <td>0.271174</td>\n",
       "      <td>1.006657e-01</td>\n",
       "      <td>5.090593e-02</td>\n",
       "    </tr>\n",
       "    <tr>\n",
       "      <th>min</th>\n",
       "      <td>6.660209e+17</td>\n",
       "      <td>1.000000</td>\n",
       "      <td>0.044333</td>\n",
       "      <td>1.011300e-08</td>\n",
       "      <td>1.740170e-10</td>\n",
       "    </tr>\n",
       "    <tr>\n",
       "      <th>25%</th>\n",
       "      <td>6.764835e+17</td>\n",
       "      <td>1.000000</td>\n",
       "      <td>0.364412</td>\n",
       "      <td>5.388625e-02</td>\n",
       "      <td>1.622240e-02</td>\n",
       "    </tr>\n",
       "    <tr>\n",
       "      <th>50%</th>\n",
       "      <td>7.119988e+17</td>\n",
       "      <td>1.000000</td>\n",
       "      <td>0.588230</td>\n",
       "      <td>1.181810e-01</td>\n",
       "      <td>4.944380e-02</td>\n",
       "    </tr>\n",
       "    <tr>\n",
       "      <th>75%</th>\n",
       "      <td>7.932034e+17</td>\n",
       "      <td>1.000000</td>\n",
       "      <td>0.843855</td>\n",
       "      <td>1.955655e-01</td>\n",
       "      <td>9.180755e-02</td>\n",
       "    </tr>\n",
       "    <tr>\n",
       "      <th>max</th>\n",
       "      <td>8.924206e+17</td>\n",
       "      <td>4.000000</td>\n",
       "      <td>1.000000</td>\n",
       "      <td>4.880140e-01</td>\n",
       "      <td>2.734190e-01</td>\n",
       "    </tr>\n",
       "  </tbody>\n",
       "</table>\n",
       "</div>"
      ],
      "text/plain": [
       "           tweet_id      img_num      p1_conf       p2_conf       p3_conf\n",
       "count  2.075000e+03  2075.000000  2075.000000  2.075000e+03  2.075000e+03\n",
       "mean   7.384514e+17     1.203855     0.594548  1.345886e-01  6.032417e-02\n",
       "std    6.785203e+16     0.561875     0.271174  1.006657e-01  5.090593e-02\n",
       "min    6.660209e+17     1.000000     0.044333  1.011300e-08  1.740170e-10\n",
       "25%    6.764835e+17     1.000000     0.364412  5.388625e-02  1.622240e-02\n",
       "50%    7.119988e+17     1.000000     0.588230  1.181810e-01  4.944380e-02\n",
       "75%    7.932034e+17     1.000000     0.843855  1.955655e-01  9.180755e-02\n",
       "max    8.924206e+17     4.000000     1.000000  4.880140e-01  2.734190e-01"
      ]
     },
     "execution_count": 192,
     "metadata": {},
     "output_type": "execute_result"
    }
   ],
   "source": [
    "image_prediction_df.describe()"
   ]
  },
  {
   "cell_type": "code",
   "execution_count": 193,
   "metadata": {},
   "outputs": [
    {
     "data": {
      "text/plain": [
       "0"
      ]
     },
     "execution_count": 193,
     "metadata": {},
     "output_type": "execute_result"
    }
   ],
   "source": [
    "image_prediction_df.duplicated().sum()"
   ]
  },
  {
   "cell_type": "markdown",
   "metadata": {},
   "source": [
    "## Assess tweet api\n"
   ]
  },
  {
   "cell_type": "code",
   "execution_count": 194,
   "metadata": {},
   "outputs": [
    {
     "name": "stdout",
     "output_type": "stream",
     "text": [
      "<class 'pandas.core.frame.DataFrame'>\n",
      "RangeIndex: 2354 entries, 0 to 2353\n",
      "Data columns (total 3 columns):\n",
      " #   Column          Non-Null Count  Dtype\n",
      "---  ------          --------------  -----\n",
      " 0   retweet_count   2354 non-null   int64\n",
      " 1   favorite_count  2354 non-null   int64\n",
      " 2   tweet_id        2354 non-null   int64\n",
      "dtypes: int64(3)\n",
      "memory usage: 55.3 KB\n"
     ]
    }
   ],
   "source": [
    "api_tweet_df.info()"
   ]
  },
  {
   "cell_type": "code",
   "execution_count": 195,
   "metadata": {},
   "outputs": [
    {
     "data": {
      "text/html": [
       "<div>\n",
       "<style scoped>\n",
       "    .dataframe tbody tr th:only-of-type {\n",
       "        vertical-align: middle;\n",
       "    }\n",
       "\n",
       "    .dataframe tbody tr th {\n",
       "        vertical-align: top;\n",
       "    }\n",
       "\n",
       "    .dataframe thead th {\n",
       "        text-align: right;\n",
       "    }\n",
       "</style>\n",
       "<table border=\"1\" class=\"dataframe\">\n",
       "  <thead>\n",
       "    <tr style=\"text-align: right;\">\n",
       "      <th></th>\n",
       "      <th>retweet_count</th>\n",
       "      <th>favorite_count</th>\n",
       "      <th>tweet_id</th>\n",
       "    </tr>\n",
       "  </thead>\n",
       "  <tbody>\n",
       "    <tr>\n",
       "      <th>count</th>\n",
       "      <td>2354.000000</td>\n",
       "      <td>2354.000000</td>\n",
       "      <td>2.354000e+03</td>\n",
       "    </tr>\n",
       "    <tr>\n",
       "      <th>mean</th>\n",
       "      <td>3164.797366</td>\n",
       "      <td>8080.968564</td>\n",
       "      <td>7.426978e+17</td>\n",
       "    </tr>\n",
       "    <tr>\n",
       "      <th>std</th>\n",
       "      <td>5284.770364</td>\n",
       "      <td>11814.771334</td>\n",
       "      <td>6.852812e+16</td>\n",
       "    </tr>\n",
       "    <tr>\n",
       "      <th>min</th>\n",
       "      <td>0.000000</td>\n",
       "      <td>0.000000</td>\n",
       "      <td>6.660209e+17</td>\n",
       "    </tr>\n",
       "    <tr>\n",
       "      <th>25%</th>\n",
       "      <td>624.500000</td>\n",
       "      <td>1415.000000</td>\n",
       "      <td>6.783975e+17</td>\n",
       "    </tr>\n",
       "    <tr>\n",
       "      <th>50%</th>\n",
       "      <td>1473.500000</td>\n",
       "      <td>3603.500000</td>\n",
       "      <td>7.194596e+17</td>\n",
       "    </tr>\n",
       "    <tr>\n",
       "      <th>75%</th>\n",
       "      <td>3652.000000</td>\n",
       "      <td>10122.250000</td>\n",
       "      <td>7.993058e+17</td>\n",
       "    </tr>\n",
       "    <tr>\n",
       "      <th>max</th>\n",
       "      <td>79515.000000</td>\n",
       "      <td>132810.000000</td>\n",
       "      <td>8.924206e+17</td>\n",
       "    </tr>\n",
       "  </tbody>\n",
       "</table>\n",
       "</div>"
      ],
      "text/plain": [
       "       retweet_count  favorite_count      tweet_id\n",
       "count    2354.000000     2354.000000  2.354000e+03\n",
       "mean     3164.797366     8080.968564  7.426978e+17\n",
       "std      5284.770364    11814.771334  6.852812e+16\n",
       "min         0.000000        0.000000  6.660209e+17\n",
       "25%       624.500000     1415.000000  6.783975e+17\n",
       "50%      1473.500000     3603.500000  7.194596e+17\n",
       "75%      3652.000000    10122.250000  7.993058e+17\n",
       "max     79515.000000   132810.000000  8.924206e+17"
      ]
     },
     "execution_count": 195,
     "metadata": {},
     "output_type": "execute_result"
    }
   ],
   "source": [
    "api_tweet_df.describe()"
   ]
  },
  {
   "cell_type": "code",
   "execution_count": 196,
   "metadata": {},
   "outputs": [
    {
     "data": {
      "text/plain": [
       "0"
      ]
     },
     "execution_count": 196,
     "metadata": {},
     "output_type": "execute_result"
    }
   ],
   "source": [
    "api_tweet_df.duplicated().sum()"
   ]
  },
  {
   "cell_type": "markdown",
   "metadata": {},
   "source": [
    "## Quality issues:"
   ]
  },
  {
   "cell_type": "markdown",
   "metadata": {},
   "source": [
    "* The original tweets all we need so remove retweets\n",
    "* Timestamp is a string rather than datetime\n",
    "* in column name there are dogs named (a) it should be None\n",
    "* p1,p2 and p3 have unnessary underscore instead of space\n",
    "* There is (59) row that does not have expanded_url, and they are not useful so, we should drop them\n",
    "* There are some denominators that are greater than 10 in twitter archive\n",
    "* There are outliers in numerators in twitter_archive\n",
    "* The tweet_id is should be str instade of int"
   ]
  },
  {
   "cell_type": "markdown",
   "metadata": {},
   "source": [
    "## Tidiness issues:"
   ]
  },
  {
   "cell_type": "markdown",
   "metadata": {},
   "source": [
    "*  Unclear Column names(p1,p2,p3)\n",
    "*  in twitter archive doggo, pupper, puppo, and floofer are dog stage.\n",
    "*  unused column img_num"
   ]
  },
  {
   "cell_type": "code",
   "execution_count": 197,
   "metadata": {},
   "outputs": [],
   "source": [
    "#Make copies of the orignal dataframe for cleaning step\n",
    "archive_clean = archive_df.copy()\n",
    "image_clean =image_prediction_df.copy()\n",
    "tweet_clean =api_tweet_df.copy()"
   ]
  },
  {
   "cell_type": "markdown",
   "metadata": {},
   "source": [
    "# cleaning data"
   ]
  },
  {
   "cell_type": "code",
   "execution_count": 198,
   "metadata": {},
   "outputs": [
    {
     "data": {
      "text/plain": [
       "2175"
      ]
     },
     "execution_count": 198,
     "metadata": {},
     "output_type": "execute_result"
    }
   ],
   "source": [
    "# removing retweet from dataframe\n",
    "archive_clean.drop(archive_clean[archive_clean['retweeted_status_id'].notnull()== True].index, inplace= True)\n",
    "archive_clean.shape[0]"
   ]
  },
  {
   "cell_type": "code",
   "execution_count": 199,
   "metadata": {},
   "outputs": [],
   "source": [
    "#Dropping  columns with retweet infomation\n",
    "archive_clean.drop(['retweeted_status_id', 'retweeted_status_user_id','retweeted_status_timestamp'], axis= 1 , inplace= True)"
   ]
  },
  {
   "cell_type": "code",
   "execution_count": 200,
   "metadata": {},
   "outputs": [],
   "source": [
    "# removing in_reply_to_status_id and in_reply_to_user_id as it only has 75 non null values\n",
    "archive_clean.drop(['in_reply_to_status_id', 'in_reply_to_user_id'], axis=1, inplace= True)"
   ]
  },
  {
   "cell_type": "code",
   "execution_count": 201,
   "metadata": {},
   "outputs": [
    {
     "data": {
      "text/plain": [
       "Index(['tweet_id', 'timestamp', 'source', 'text', 'expanded_urls', 'rating_numerator', 'rating_denominator', 'name', 'doggo', 'floofer', 'pupper', 'puppo'], dtype='object')"
      ]
     },
     "execution_count": 201,
     "metadata": {},
     "output_type": "execute_result"
    }
   ],
   "source": [
    "archive_clean.columns"
   ]
  },
  {
   "cell_type": "code",
   "execution_count": 202,
   "metadata": {},
   "outputs": [
    {
     "name": "stdout",
     "output_type": "stream",
     "text": [
      "<class 'pandas.core.frame.DataFrame'>\n",
      "Int64Index: 2175 entries, 0 to 2355\n",
      "Data columns (total 12 columns):\n",
      " #   Column              Non-Null Count  Dtype              \n",
      "---  ------              --------------  -----              \n",
      " 0   tweet_id            2175 non-null   int64              \n",
      " 1   timestamp           2175 non-null   datetime64[ns, UTC]\n",
      " 2   source              2175 non-null   object             \n",
      " 3   text                2175 non-null   object             \n",
      " 4   expanded_urls       2117 non-null   object             \n",
      " 5   rating_numerator    2175 non-null   int64              \n",
      " 6   rating_denominator  2175 non-null   int64              \n",
      " 7   name                2175 non-null   object             \n",
      " 8   doggo               2175 non-null   object             \n",
      " 9   floofer             2175 non-null   object             \n",
      " 10  pupper              2175 non-null   object             \n",
      " 11  puppo               2175 non-null   object             \n",
      "dtypes: datetime64[ns, UTC](1), int64(3), object(8)\n",
      "memory usage: 220.9+ KB\n"
     ]
    }
   ],
   "source": [
    "#write function to convert string to datetime\n",
    "def convert_to_datetime(date):\n",
    "    x = pd.to_datetime(date)\n",
    "    return x\n",
    "\n",
    "archive_clean['timestamp'] = archive_clean['timestamp'].apply(convert_to_datetime)\n",
    "archive_clean.info()"
   ]
  },
  {
   "cell_type": "code",
   "execution_count": 203,
   "metadata": {},
   "outputs": [],
   "source": [
    "#Strip the Anchor tag from the source column and keep the content between the tags using lamada and apply method\n",
    "import re\n",
    "archive_clean.source = archive_clean.source.apply(lambda x: re.sub('<[^<]+?>', '', x))"
   ]
  },
  {
   "cell_type": "code",
   "execution_count": 204,
   "metadata": {},
   "outputs": [
    {
     "data": {
      "text/html": [
       "<div>\n",
       "<style scoped>\n",
       "    .dataframe tbody tr th:only-of-type {\n",
       "        vertical-align: middle;\n",
       "    }\n",
       "\n",
       "    .dataframe tbody tr th {\n",
       "        vertical-align: top;\n",
       "    }\n",
       "\n",
       "    .dataframe thead th {\n",
       "        text-align: right;\n",
       "    }\n",
       "</style>\n",
       "<table border=\"1\" class=\"dataframe\">\n",
       "  <thead>\n",
       "    <tr style=\"text-align: right;\">\n",
       "      <th></th>\n",
       "      <th>tweet_id</th>\n",
       "      <th>timestamp</th>\n",
       "      <th>source</th>\n",
       "      <th>text</th>\n",
       "      <th>expanded_urls</th>\n",
       "      <th>rating_numerator</th>\n",
       "      <th>rating_denominator</th>\n",
       "      <th>name</th>\n",
       "      <th>doggo</th>\n",
       "      <th>floofer</th>\n",
       "      <th>pupper</th>\n",
       "      <th>puppo</th>\n",
       "    </tr>\n",
       "  </thead>\n",
       "  <tbody>\n",
       "    <tr>\n",
       "      <th>0</th>\n",
       "      <td>892420643555336193</td>\n",
       "      <td>2017-08-01 16:23:56+00:00</td>\n",
       "      <td>Twitter for iPhone</td>\n",
       "      <td>This is Phineas. He's a mystical boy. Only ever appears in the hole of a donut. 13/10 https://t.co/MgUWQ76dJU</td>\n",
       "      <td>https://twitter.com/dog_rates/status/892420643555336193/photo/1</td>\n",
       "      <td>13</td>\n",
       "      <td>10</td>\n",
       "      <td>Phineas</td>\n",
       "      <td>None</td>\n",
       "      <td>None</td>\n",
       "      <td>None</td>\n",
       "      <td>None</td>\n",
       "    </tr>\n",
       "    <tr>\n",
       "      <th>1</th>\n",
       "      <td>892177421306343426</td>\n",
       "      <td>2017-08-01 00:17:27+00:00</td>\n",
       "      <td>Twitter for iPhone</td>\n",
       "      <td>This is Tilly. She's just checking pup on you. Hopes you're doing ok. If not, she's available for pats, snugs, boops, the whole bit. 13/10 https://t.co/0Xxu71qeIV</td>\n",
       "      <td>https://twitter.com/dog_rates/status/892177421306343426/photo/1</td>\n",
       "      <td>13</td>\n",
       "      <td>10</td>\n",
       "      <td>Tilly</td>\n",
       "      <td>None</td>\n",
       "      <td>None</td>\n",
       "      <td>None</td>\n",
       "      <td>None</td>\n",
       "    </tr>\n",
       "  </tbody>\n",
       "</table>\n",
       "</div>"
      ],
      "text/plain": [
       "             tweet_id                 timestamp              source                                                                                                                                                                text                                                    expanded_urls  rating_numerator  rating_denominator     name doggo floofer pupper puppo\n",
       "0  892420643555336193 2017-08-01 16:23:56+00:00  Twitter for iPhone                                                       This is Phineas. He's a mystical boy. Only ever appears in the hole of a donut. 13/10 https://t.co/MgUWQ76dJU  https://twitter.com/dog_rates/status/892420643555336193/photo/1                13                  10  Phineas  None    None   None  None\n",
       "1  892177421306343426 2017-08-01 00:17:27+00:00  Twitter for iPhone  This is Tilly. She's just checking pup on you. Hopes you're doing ok. If not, she's available for pats, snugs, boops, the whole bit. 13/10 https://t.co/0Xxu71qeIV  https://twitter.com/dog_rates/status/892177421306343426/photo/1                13                  10    Tilly  None    None   None  None"
      ]
     },
     "execution_count": 204,
     "metadata": {},
     "output_type": "execute_result"
    }
   ],
   "source": [
    "archive_clean.head(2)"
   ]
  },
  {
   "cell_type": "code",
   "execution_count": 205,
   "metadata": {},
   "outputs": [],
   "source": [
    "#replace any dog who have letter (a) as name to (None) for now, we can make it using (replace) method)\n",
    "archive_clean.name = archive_clean.name.str.replace('a', 'None')"
   ]
  },
  {
   "cell_type": "code",
   "execution_count": 206,
   "metadata": {},
   "outputs": [
    {
     "data": {
      "text/html": [
       "<div>\n",
       "<style scoped>\n",
       "    .dataframe tbody tr th:only-of-type {\n",
       "        vertical-align: middle;\n",
       "    }\n",
       "\n",
       "    .dataframe tbody tr th {\n",
       "        vertical-align: top;\n",
       "    }\n",
       "\n",
       "    .dataframe thead th {\n",
       "        text-align: right;\n",
       "    }\n",
       "</style>\n",
       "<table border=\"1\" class=\"dataframe\">\n",
       "  <thead>\n",
       "    <tr style=\"text-align: right;\">\n",
       "      <th></th>\n",
       "      <th>tweet_id</th>\n",
       "      <th>timestamp</th>\n",
       "      <th>source</th>\n",
       "      <th>text</th>\n",
       "      <th>expanded_urls</th>\n",
       "      <th>rating_numerator</th>\n",
       "      <th>rating_denominator</th>\n",
       "      <th>name</th>\n",
       "      <th>doggo</th>\n",
       "      <th>floofer</th>\n",
       "      <th>pupper</th>\n",
       "      <th>puppo</th>\n",
       "    </tr>\n",
       "  </thead>\n",
       "  <tbody>\n",
       "  </tbody>\n",
       "</table>\n",
       "</div>"
      ],
      "text/plain": [
       "Empty DataFrame\n",
       "Columns: [tweet_id, timestamp, source, text, expanded_urls, rating_numerator, rating_denominator, name, doggo, floofer, pupper, puppo]\n",
       "Index: []"
      ]
     },
     "execution_count": 206,
     "metadata": {},
     "output_type": "execute_result"
    }
   ],
   "source": [
    "#check\n",
    "archive_clean.query(\"name == 'a'\")"
   ]
  },
  {
   "cell_type": "code",
   "execution_count": 207,
   "metadata": {},
   "outputs": [],
   "source": [
    "#to make all string lower case I will use lower() function on p1 ,p2 and p3 \n",
    "\n",
    "image_clean['p1'] = image_clean['p1'].str.lower()\n",
    "image_clean['p2'] = image_clean['p2'].str.lower()\n",
    "image_clean['p3'] = image_clean['p3'].str.lower()"
   ]
  },
  {
   "cell_type": "code",
   "execution_count": 208,
   "metadata": {},
   "outputs": [
    {
     "data": {
      "text/html": [
       "<div>\n",
       "<style scoped>\n",
       "    .dataframe tbody tr th:only-of-type {\n",
       "        vertical-align: middle;\n",
       "    }\n",
       "\n",
       "    .dataframe tbody tr th {\n",
       "        vertical-align: top;\n",
       "    }\n",
       "\n",
       "    .dataframe thead th {\n",
       "        text-align: right;\n",
       "    }\n",
       "</style>\n",
       "<table border=\"1\" class=\"dataframe\">\n",
       "  <thead>\n",
       "    <tr style=\"text-align: right;\">\n",
       "      <th></th>\n",
       "      <th>tweet_id</th>\n",
       "      <th>jpg_url</th>\n",
       "      <th>img_num</th>\n",
       "      <th>p1</th>\n",
       "      <th>p1_conf</th>\n",
       "      <th>p1_dog</th>\n",
       "      <th>p2</th>\n",
       "      <th>p2_conf</th>\n",
       "      <th>p2_dog</th>\n",
       "      <th>p3</th>\n",
       "      <th>p3_conf</th>\n",
       "      <th>p3_dog</th>\n",
       "    </tr>\n",
       "  </thead>\n",
       "  <tbody>\n",
       "    <tr>\n",
       "      <th>0</th>\n",
       "      <td>666020888022790149</td>\n",
       "      <td>https://pbs.twimg.com/media/CT4udn0WwAA0aMy.jpg</td>\n",
       "      <td>1</td>\n",
       "      <td>welsh_springer_spaniel</td>\n",
       "      <td>0.465074</td>\n",
       "      <td>True</td>\n",
       "      <td>collie</td>\n",
       "      <td>0.156665</td>\n",
       "      <td>True</td>\n",
       "      <td>shetland_sheepdog</td>\n",
       "      <td>0.061428</td>\n",
       "      <td>True</td>\n",
       "    </tr>\n",
       "    <tr>\n",
       "      <th>1</th>\n",
       "      <td>666029285002620928</td>\n",
       "      <td>https://pbs.twimg.com/media/CT42GRgUYAA5iDo.jpg</td>\n",
       "      <td>1</td>\n",
       "      <td>redbone</td>\n",
       "      <td>0.506826</td>\n",
       "      <td>True</td>\n",
       "      <td>miniature_pinscher</td>\n",
       "      <td>0.074192</td>\n",
       "      <td>True</td>\n",
       "      <td>rhodesian_ridgeback</td>\n",
       "      <td>0.072010</td>\n",
       "      <td>True</td>\n",
       "    </tr>\n",
       "    <tr>\n",
       "      <th>2</th>\n",
       "      <td>666033412701032449</td>\n",
       "      <td>https://pbs.twimg.com/media/CT4521TWwAEvMyu.jpg</td>\n",
       "      <td>1</td>\n",
       "      <td>german_shepherd</td>\n",
       "      <td>0.596461</td>\n",
       "      <td>True</td>\n",
       "      <td>malinois</td>\n",
       "      <td>0.138584</td>\n",
       "      <td>True</td>\n",
       "      <td>bloodhound</td>\n",
       "      <td>0.116197</td>\n",
       "      <td>True</td>\n",
       "    </tr>\n",
       "    <tr>\n",
       "      <th>3</th>\n",
       "      <td>666044226329800704</td>\n",
       "      <td>https://pbs.twimg.com/media/CT5Dr8HUEAA-lEu.jpg</td>\n",
       "      <td>1</td>\n",
       "      <td>rhodesian_ridgeback</td>\n",
       "      <td>0.408143</td>\n",
       "      <td>True</td>\n",
       "      <td>redbone</td>\n",
       "      <td>0.360687</td>\n",
       "      <td>True</td>\n",
       "      <td>miniature_pinscher</td>\n",
       "      <td>0.222752</td>\n",
       "      <td>True</td>\n",
       "    </tr>\n",
       "    <tr>\n",
       "      <th>4</th>\n",
       "      <td>666049248165822465</td>\n",
       "      <td>https://pbs.twimg.com/media/CT5IQmsXIAAKY4A.jpg</td>\n",
       "      <td>1</td>\n",
       "      <td>miniature_pinscher</td>\n",
       "      <td>0.560311</td>\n",
       "      <td>True</td>\n",
       "      <td>rottweiler</td>\n",
       "      <td>0.243682</td>\n",
       "      <td>True</td>\n",
       "      <td>doberman</td>\n",
       "      <td>0.154629</td>\n",
       "      <td>True</td>\n",
       "    </tr>\n",
       "  </tbody>\n",
       "</table>\n",
       "</div>"
      ],
      "text/plain": [
       "             tweet_id                                          jpg_url  img_num                      p1   p1_conf  p1_dog                  p2   p2_conf  p2_dog                   p3   p3_conf  p3_dog\n",
       "0  666020888022790149  https://pbs.twimg.com/media/CT4udn0WwAA0aMy.jpg        1  welsh_springer_spaniel  0.465074    True              collie  0.156665    True    shetland_sheepdog  0.061428    True\n",
       "1  666029285002620928  https://pbs.twimg.com/media/CT42GRgUYAA5iDo.jpg        1                 redbone  0.506826    True  miniature_pinscher  0.074192    True  rhodesian_ridgeback  0.072010    True\n",
       "2  666033412701032449  https://pbs.twimg.com/media/CT4521TWwAEvMyu.jpg        1         german_shepherd  0.596461    True            malinois  0.138584    True           bloodhound  0.116197    True\n",
       "3  666044226329800704  https://pbs.twimg.com/media/CT5Dr8HUEAA-lEu.jpg        1     rhodesian_ridgeback  0.408143    True             redbone  0.360687    True   miniature_pinscher  0.222752    True\n",
       "4  666049248165822465  https://pbs.twimg.com/media/CT5IQmsXIAAKY4A.jpg        1      miniature_pinscher  0.560311    True          rottweiler  0.243682    True             doberman  0.154629    True"
      ]
     },
     "execution_count": 208,
     "metadata": {},
     "output_type": "execute_result"
    }
   ],
   "source": [
    "image_clean.head(5)"
   ]
  },
  {
   "cell_type": "code",
   "execution_count": 209,
   "metadata": {},
   "outputs": [
    {
     "data": {
      "text/plain": [
       "66"
      ]
     },
     "execution_count": 209,
     "metadata": {},
     "output_type": "execute_result"
    }
   ],
   "source": [
    "sum(image_clean['jpg_url'].duplicated())"
   ]
  },
  {
   "cell_type": "code",
   "execution_count": 210,
   "metadata": {},
   "outputs": [],
   "source": [
    "# dropping duplicates jpg_url\n",
    "image_clean = image_clean.drop_duplicates(subset=['jpg_url'], keep='last')"
   ]
  },
  {
   "cell_type": "code",
   "execution_count": 211,
   "metadata": {},
   "outputs": [
    {
     "data": {
      "text/plain": [
       "0"
      ]
     },
     "execution_count": 211,
     "metadata": {},
     "output_type": "execute_result"
    }
   ],
   "source": [
    "#check\n",
    "sum(image_clean['jpg_url'].duplicated())"
   ]
  },
  {
   "cell_type": "code",
   "execution_count": 212,
   "metadata": {},
   "outputs": [],
   "source": [
    "# make string.replace function to repalce _ \n",
    "image_clean['p1'] = image_clean['p1'].str.replace('_', ' ')\n",
    "image_clean['p2'] = image_clean['p2'].str.replace('_', ' ')\n",
    "image_clean['p3'] = image_clean['p3'].str.replace('_', ' ')"
   ]
  },
  {
   "cell_type": "code",
   "execution_count": 213,
   "metadata": {
    "scrolled": true
   },
   "outputs": [
    {
     "data": {
      "text/html": [
       "<div>\n",
       "<style scoped>\n",
       "    .dataframe tbody tr th:only-of-type {\n",
       "        vertical-align: middle;\n",
       "    }\n",
       "\n",
       "    .dataframe tbody tr th {\n",
       "        vertical-align: top;\n",
       "    }\n",
       "\n",
       "    .dataframe thead th {\n",
       "        text-align: right;\n",
       "    }\n",
       "</style>\n",
       "<table border=\"1\" class=\"dataframe\">\n",
       "  <thead>\n",
       "    <tr style=\"text-align: right;\">\n",
       "      <th></th>\n",
       "      <th>tweet_id</th>\n",
       "      <th>jpg_url</th>\n",
       "      <th>img_num</th>\n",
       "      <th>p1</th>\n",
       "      <th>p1_conf</th>\n",
       "      <th>p1_dog</th>\n",
       "      <th>p2</th>\n",
       "      <th>p2_conf</th>\n",
       "      <th>p2_dog</th>\n",
       "      <th>p3</th>\n",
       "      <th>p3_conf</th>\n",
       "      <th>p3_dog</th>\n",
       "    </tr>\n",
       "  </thead>\n",
       "  <tbody>\n",
       "    <tr>\n",
       "      <th>0</th>\n",
       "      <td>666020888022790149</td>\n",
       "      <td>https://pbs.twimg.com/media/CT4udn0WwAA0aMy.jpg</td>\n",
       "      <td>1</td>\n",
       "      <td>welsh springer spaniel</td>\n",
       "      <td>0.465074</td>\n",
       "      <td>True</td>\n",
       "      <td>collie</td>\n",
       "      <td>0.156665</td>\n",
       "      <td>True</td>\n",
       "      <td>shetland sheepdog</td>\n",
       "      <td>0.061428</td>\n",
       "      <td>True</td>\n",
       "    </tr>\n",
       "    <tr>\n",
       "      <th>1</th>\n",
       "      <td>666029285002620928</td>\n",
       "      <td>https://pbs.twimg.com/media/CT42GRgUYAA5iDo.jpg</td>\n",
       "      <td>1</td>\n",
       "      <td>redbone</td>\n",
       "      <td>0.506826</td>\n",
       "      <td>True</td>\n",
       "      <td>miniature pinscher</td>\n",
       "      <td>0.074192</td>\n",
       "      <td>True</td>\n",
       "      <td>rhodesian ridgeback</td>\n",
       "      <td>0.072010</td>\n",
       "      <td>True</td>\n",
       "    </tr>\n",
       "    <tr>\n",
       "      <th>2</th>\n",
       "      <td>666033412701032449</td>\n",
       "      <td>https://pbs.twimg.com/media/CT4521TWwAEvMyu.jpg</td>\n",
       "      <td>1</td>\n",
       "      <td>german shepherd</td>\n",
       "      <td>0.596461</td>\n",
       "      <td>True</td>\n",
       "      <td>malinois</td>\n",
       "      <td>0.138584</td>\n",
       "      <td>True</td>\n",
       "      <td>bloodhound</td>\n",
       "      <td>0.116197</td>\n",
       "      <td>True</td>\n",
       "    </tr>\n",
       "    <tr>\n",
       "      <th>3</th>\n",
       "      <td>666044226329800704</td>\n",
       "      <td>https://pbs.twimg.com/media/CT5Dr8HUEAA-lEu.jpg</td>\n",
       "      <td>1</td>\n",
       "      <td>rhodesian ridgeback</td>\n",
       "      <td>0.408143</td>\n",
       "      <td>True</td>\n",
       "      <td>redbone</td>\n",
       "      <td>0.360687</td>\n",
       "      <td>True</td>\n",
       "      <td>miniature pinscher</td>\n",
       "      <td>0.222752</td>\n",
       "      <td>True</td>\n",
       "    </tr>\n",
       "    <tr>\n",
       "      <th>4</th>\n",
       "      <td>666049248165822465</td>\n",
       "      <td>https://pbs.twimg.com/media/CT5IQmsXIAAKY4A.jpg</td>\n",
       "      <td>1</td>\n",
       "      <td>miniature pinscher</td>\n",
       "      <td>0.560311</td>\n",
       "      <td>True</td>\n",
       "      <td>rottweiler</td>\n",
       "      <td>0.243682</td>\n",
       "      <td>True</td>\n",
       "      <td>doberman</td>\n",
       "      <td>0.154629</td>\n",
       "      <td>True</td>\n",
       "    </tr>\n",
       "  </tbody>\n",
       "</table>\n",
       "</div>"
      ],
      "text/plain": [
       "             tweet_id                                          jpg_url  img_num                      p1   p1_conf  p1_dog                  p2   p2_conf  p2_dog                   p3   p3_conf  p3_dog\n",
       "0  666020888022790149  https://pbs.twimg.com/media/CT4udn0WwAA0aMy.jpg        1  welsh springer spaniel  0.465074    True              collie  0.156665    True    shetland sheepdog  0.061428    True\n",
       "1  666029285002620928  https://pbs.twimg.com/media/CT42GRgUYAA5iDo.jpg        1                 redbone  0.506826    True  miniature pinscher  0.074192    True  rhodesian ridgeback  0.072010    True\n",
       "2  666033412701032449  https://pbs.twimg.com/media/CT4521TWwAEvMyu.jpg        1         german shepherd  0.596461    True            malinois  0.138584    True           bloodhound  0.116197    True\n",
       "3  666044226329800704  https://pbs.twimg.com/media/CT5Dr8HUEAA-lEu.jpg        1     rhodesian ridgeback  0.408143    True             redbone  0.360687    True   miniature pinscher  0.222752    True\n",
       "4  666049248165822465  https://pbs.twimg.com/media/CT5IQmsXIAAKY4A.jpg        1      miniature pinscher  0.560311    True          rottweiler  0.243682    True             doberman  0.154629    True"
      ]
     },
     "execution_count": 213,
     "metadata": {},
     "output_type": "execute_result"
    }
   ],
   "source": [
    "image_clean.head()"
   ]
  },
  {
   "cell_type": "code",
   "execution_count": 214,
   "metadata": {},
   "outputs": [],
   "source": [
    "#change columns names(p1,p2,p3) to first_pred, second_pred, third_pred\n",
    "image_clean = image_clean.rename(columns={\"p1\": \"first_pred\", \"p2\": \"second_pred\", \"p3\": \"third_pred\"})"
   ]
  },
  {
   "cell_type": "code",
   "execution_count": 215,
   "metadata": {},
   "outputs": [
    {
     "data": {
      "text/plain": [
       "Index(['tweet_id', 'jpg_url', 'img_num', 'first_pred', 'p1_conf', 'p1_dog', 'second_pred', 'p2_conf', 'p2_dog', 'third_pred', 'p3_conf', 'p3_dog'], dtype='object')"
      ]
     },
     "execution_count": 215,
     "metadata": {},
     "output_type": "execute_result"
    }
   ],
   "source": [
    "image_clean.columns"
   ]
  },
  {
   "cell_type": "code",
   "execution_count": 216,
   "metadata": {
    "scrolled": true
   },
   "outputs": [],
   "source": [
    "# using as type function changing format type from number to string on all three dataframe\n",
    "\n",
    "archive_clean['tweet_id'] = archive_clean['tweet_id'].astype('str')\n",
    "image_clean['tweet_id'] = image_clean['tweet_id'].astype('str')\n",
    "tweet_clean['tweet_id'] = tweet_clean['tweet_id'].astype('str')"
   ]
  },
  {
   "cell_type": "code",
   "execution_count": 217,
   "metadata": {},
   "outputs": [],
   "source": [
    "# Melt the the columns into values\n",
    "archive_clean = pd.melt(archive_clean, id_vars = ['tweet_id', 'timestamp','source', 'text','expanded_urls', 'rating_numerator',   \n",
    "       'rating_denominator', 'name'], value_vars = ['doggo', 'floofer', 'pupper', 'puppo'], \\\n",
    "        var_name = 's', value_name = 'dog_stage')"
   ]
  },
  {
   "cell_type": "code",
   "execution_count": 218,
   "metadata": {},
   "outputs": [],
   "source": [
    "archive_clean = archive_clean.drop('s', 1)"
   ]
  },
  {
   "cell_type": "code",
   "execution_count": 219,
   "metadata": {},
   "outputs": [
    {
     "data": {
      "text/plain": [
       "None       8344\n",
       "pupper      234\n",
       "doggo        87\n",
       "puppo        25\n",
       "floofer      10\n",
       "Name: dog_stage, dtype: int64"
      ]
     },
     "execution_count": 219,
     "metadata": {},
     "output_type": "execute_result"
    }
   ],
   "source": [
    "# check\n",
    "archive_clean['dog_stage'].value_counts()"
   ]
  },
  {
   "cell_type": "code",
   "execution_count": 220,
   "metadata": {},
   "outputs": [],
   "source": [
    "# deleted duplicated value\n",
    "archive_clean = archive_clean.drop_duplicates()"
   ]
  },
  {
   "cell_type": "code",
   "execution_count": 221,
   "metadata": {
    "scrolled": true
   },
   "outputs": [
    {
     "data": {
      "text/plain": [
       "None       2175\n",
       "pupper      234\n",
       "doggo        87\n",
       "puppo        25\n",
       "floofer      10\n",
       "Name: dog_stage, dtype: int64"
      ]
     },
     "execution_count": 221,
     "metadata": {},
     "output_type": "execute_result"
    }
   ],
   "source": [
    "# check\n",
    "archive_clean['dog_stage'].value_counts()"
   ]
  },
  {
   "cell_type": "code",
   "execution_count": 222,
   "metadata": {},
   "outputs": [],
   "source": [
    "#drop the 59 rows that have missing values\n",
    "archive_clean.dropna(subset = ['expanded_urls'] , inplace = True)"
   ]
  },
  {
   "cell_type": "code",
   "execution_count": 223,
   "metadata": {},
   "outputs": [
    {
     "data": {
      "text/plain": [
       "0"
      ]
     },
     "execution_count": 223,
     "metadata": {},
     "output_type": "execute_result"
    }
   ],
   "source": [
    "#check if there still missing values \n",
    "sum(archive_clean.expanded_urls.isnull())"
   ]
  },
  {
   "cell_type": "code",
   "execution_count": 224,
   "metadata": {
    "scrolled": false
   },
   "outputs": [
    {
     "data": {
      "text/html": [
       "<style  type=\"text/css\" >\n",
       "#T_9aca558a_4175_11eb_a341_8c1645b1fcd0row0_col3,#T_9aca558a_4175_11eb_a341_8c1645b1fcd0row1_col3,#T_9aca558a_4175_11eb_a341_8c1645b1fcd0row2_col3,#T_9aca558a_4175_11eb_a341_8c1645b1fcd0row3_col3,#T_9aca558a_4175_11eb_a341_8c1645b1fcd0row4_col3,#T_9aca558a_4175_11eb_a341_8c1645b1fcd0row5_col3,#T_9aca558a_4175_11eb_a341_8c1645b1fcd0row6_col3,#T_9aca558a_4175_11eb_a341_8c1645b1fcd0row7_col3,#T_9aca558a_4175_11eb_a341_8c1645b1fcd0row8_col3,#T_9aca558a_4175_11eb_a341_8c1645b1fcd0row9_col3,#T_9aca558a_4175_11eb_a341_8c1645b1fcd0row10_col3,#T_9aca558a_4175_11eb_a341_8c1645b1fcd0row11_col3,#T_9aca558a_4175_11eb_a341_8c1645b1fcd0row12_col3,#T_9aca558a_4175_11eb_a341_8c1645b1fcd0row13_col3,#T_9aca558a_4175_11eb_a341_8c1645b1fcd0row14_col3,#T_9aca558a_4175_11eb_a341_8c1645b1fcd0row15_col3{\n",
       "            width:  300px;\n",
       "        }</style><table id=\"T_9aca558a_4175_11eb_a341_8c1645b1fcd0\" ><thead>    <tr>        <th class=\"blank level0\" ></th>        <th class=\"col_heading level0 col0\" >tweet_id</th>        <th class=\"col_heading level0 col1\" >timestamp</th>        <th class=\"col_heading level0 col2\" >source</th>        <th class=\"col_heading level0 col3\" >text</th>        <th class=\"col_heading level0 col4\" >expanded_urls</th>        <th class=\"col_heading level0 col5\" >rating_numerator</th>        <th class=\"col_heading level0 col6\" >rating_denominator</th>        <th class=\"col_heading level0 col7\" >name</th>        <th class=\"col_heading level0 col8\" >dog_stage</th>    </tr></thead><tbody>\n",
       "                <tr>\n",
       "                        <th id=\"T_9aca558a_4175_11eb_a341_8c1645b1fcd0level0_row0\" class=\"row_heading level0 row0\" >363</th>\n",
       "                        <td id=\"T_9aca558a_4175_11eb_a341_8c1645b1fcd0row0_col0\" class=\"data row0 col0\" >820690176645140481</td>\n",
       "                        <td id=\"T_9aca558a_4175_11eb_a341_8c1645b1fcd0row0_col1\" class=\"data row0 col1\" >2017-01-15 17:52:40+00:00</td>\n",
       "                        <td id=\"T_9aca558a_4175_11eb_a341_8c1645b1fcd0row0_col2\" class=\"data row0 col2\" >Twitter for iPhone</td>\n",
       "                        <td id=\"T_9aca558a_4175_11eb_a341_8c1645b1fcd0row0_col3\" class=\"data row0 col3\" >The floofs have been released I repeat the floofs have been released. 84/70 https://t.co/NIYC820tmd</td>\n",
       "                        <td id=\"T_9aca558a_4175_11eb_a341_8c1645b1fcd0row0_col4\" class=\"data row0 col4\" >https://twitter.com/dog_rates/status/820690176645140481/photo/1,https://twitter.com/dog_rates/status/820690176645140481/photo/1,https://twitter.com/dog_rates/status/820690176645140481/photo/1</td>\n",
       "                        <td id=\"T_9aca558a_4175_11eb_a341_8c1645b1fcd0row0_col5\" class=\"data row0 col5\" >84</td>\n",
       "                        <td id=\"T_9aca558a_4175_11eb_a341_8c1645b1fcd0row0_col6\" class=\"data row0 col6\" >70</td>\n",
       "                        <td id=\"T_9aca558a_4175_11eb_a341_8c1645b1fcd0row0_col7\" class=\"data row0 col7\" >None</td>\n",
       "                        <td id=\"T_9aca558a_4175_11eb_a341_8c1645b1fcd0row0_col8\" class=\"data row0 col8\" >None</td>\n",
       "            </tr>\n",
       "            <tr>\n",
       "                        <th id=\"T_9aca558a_4175_11eb_a341_8c1645b1fcd0level0_row1\" class=\"row_heading level0 row1\" >733</th>\n",
       "                        <td id=\"T_9aca558a_4175_11eb_a341_8c1645b1fcd0row1_col0\" class=\"data row1 col0\" >758467244762497024</td>\n",
       "                        <td id=\"T_9aca558a_4175_11eb_a341_8c1645b1fcd0row1_col1\" class=\"data row1 col1\" >2016-07-28 01:00:57+00:00</td>\n",
       "                        <td id=\"T_9aca558a_4175_11eb_a341_8c1645b1fcd0row1_col2\" class=\"data row1 col2\" >Twitter for iPhone</td>\n",
       "                        <td id=\"T_9aca558a_4175_11eb_a341_8c1645b1fcd0row1_col3\" class=\"data row1 col3\" >Why does this never happen at my front door... 165/150 https://t.co/HmwrdfEfUE</td>\n",
       "                        <td id=\"T_9aca558a_4175_11eb_a341_8c1645b1fcd0row1_col4\" class=\"data row1 col4\" >https://twitter.com/dog_rates/status/758467244762497024/video/1</td>\n",
       "                        <td id=\"T_9aca558a_4175_11eb_a341_8c1645b1fcd0row1_col5\" class=\"data row1 col5\" >165</td>\n",
       "                        <td id=\"T_9aca558a_4175_11eb_a341_8c1645b1fcd0row1_col6\" class=\"data row1 col6\" >150</td>\n",
       "                        <td id=\"T_9aca558a_4175_11eb_a341_8c1645b1fcd0row1_col7\" class=\"data row1 col7\" >None</td>\n",
       "                        <td id=\"T_9aca558a_4175_11eb_a341_8c1645b1fcd0row1_col8\" class=\"data row1 col8\" >None</td>\n",
       "            </tr>\n",
       "            <tr>\n",
       "                        <th id=\"T_9aca558a_4175_11eb_a341_8c1645b1fcd0level0_row2\" class=\"row_heading level0 row2\" >890</th>\n",
       "                        <td id=\"T_9aca558a_4175_11eb_a341_8c1645b1fcd0row2_col0\" class=\"data row2 col0\" >740373189193256964</td>\n",
       "                        <td id=\"T_9aca558a_4175_11eb_a341_8c1645b1fcd0row2_col1\" class=\"data row2 col1\" >2016-06-08 02:41:38+00:00</td>\n",
       "                        <td id=\"T_9aca558a_4175_11eb_a341_8c1645b1fcd0row2_col2\" class=\"data row2 col2\" >Twitter for iPhone</td>\n",
       "                        <td id=\"T_9aca558a_4175_11eb_a341_8c1645b1fcd0row2_col3\" class=\"data row2 col3\" >After so many requests, this is Bretagne. She was the last surviving 9/11 search dog, and our second ever 14/10. RIP https://t.co/XAVDNDaVgQ</td>\n",
       "                        <td id=\"T_9aca558a_4175_11eb_a341_8c1645b1fcd0row2_col4\" class=\"data row2 col4\" >https://twitter.com/dog_rates/status/740373189193256964/photo/1,https://twitter.com/dog_rates/status/740373189193256964/photo/1,https://twitter.com/dog_rates/status/740373189193256964/photo/1,https://twitter.com/dog_rates/status/740373189193256964/photo/1</td>\n",
       "                        <td id=\"T_9aca558a_4175_11eb_a341_8c1645b1fcd0row2_col5\" class=\"data row2 col5\" >9</td>\n",
       "                        <td id=\"T_9aca558a_4175_11eb_a341_8c1645b1fcd0row2_col6\" class=\"data row2 col6\" >11</td>\n",
       "                        <td id=\"T_9aca558a_4175_11eb_a341_8c1645b1fcd0row2_col7\" class=\"data row2 col7\" >None</td>\n",
       "                        <td id=\"T_9aca558a_4175_11eb_a341_8c1645b1fcd0row2_col8\" class=\"data row2 col8\" >None</td>\n",
       "            </tr>\n",
       "            <tr>\n",
       "                        <th id=\"T_9aca558a_4175_11eb_a341_8c1645b1fcd0level0_row3\" class=\"row_heading level0 row3\" >942</th>\n",
       "                        <td id=\"T_9aca558a_4175_11eb_a341_8c1645b1fcd0row3_col0\" class=\"data row3 col0\" >731156023742988288</td>\n",
       "                        <td id=\"T_9aca558a_4175_11eb_a341_8c1645b1fcd0row3_col1\" class=\"data row3 col1\" >2016-05-13 16:15:54+00:00</td>\n",
       "                        <td id=\"T_9aca558a_4175_11eb_a341_8c1645b1fcd0row3_col2\" class=\"data row3 col2\" >Twitter for iPhone</td>\n",
       "                        <td id=\"T_9aca558a_4175_11eb_a341_8c1645b1fcd0row3_col3\" class=\"data row3 col3\" >Say hello to this unbelievably well behaved squad of doggos. 204/170 would try to pet all at once https://t.co/yGQI3He3xv</td>\n",
       "                        <td id=\"T_9aca558a_4175_11eb_a341_8c1645b1fcd0row3_col4\" class=\"data row3 col4\" >https://twitter.com/dog_rates/status/731156023742988288/photo/1</td>\n",
       "                        <td id=\"T_9aca558a_4175_11eb_a341_8c1645b1fcd0row3_col5\" class=\"data row3 col5\" >204</td>\n",
       "                        <td id=\"T_9aca558a_4175_11eb_a341_8c1645b1fcd0row3_col6\" class=\"data row3 col6\" >170</td>\n",
       "                        <td id=\"T_9aca558a_4175_11eb_a341_8c1645b1fcd0row3_col7\" class=\"data row3 col7\" >this</td>\n",
       "                        <td id=\"T_9aca558a_4175_11eb_a341_8c1645b1fcd0row3_col8\" class=\"data row3 col8\" >None</td>\n",
       "            </tr>\n",
       "            <tr>\n",
       "                        <th id=\"T_9aca558a_4175_11eb_a341_8c1645b1fcd0level0_row4\" class=\"row_heading level0 row4\" >987</th>\n",
       "                        <td id=\"T_9aca558a_4175_11eb_a341_8c1645b1fcd0row4_col0\" class=\"data row4 col0\" >722974582966214656</td>\n",
       "                        <td id=\"T_9aca558a_4175_11eb_a341_8c1645b1fcd0row4_col1\" class=\"data row4 col1\" >2016-04-21 02:25:47+00:00</td>\n",
       "                        <td id=\"T_9aca558a_4175_11eb_a341_8c1645b1fcd0row4_col2\" class=\"data row4 col2\" >Twitter for iPhone</td>\n",
       "                        <td id=\"T_9aca558a_4175_11eb_a341_8c1645b1fcd0row4_col3\" class=\"data row4 col3\" >Happy 4/20 from the squad! 13/10 for all https://t.co/eV1diwds8a</td>\n",
       "                        <td id=\"T_9aca558a_4175_11eb_a341_8c1645b1fcd0row4_col4\" class=\"data row4 col4\" >https://twitter.com/dog_rates/status/722974582966214656/photo/1</td>\n",
       "                        <td id=\"T_9aca558a_4175_11eb_a341_8c1645b1fcd0row4_col5\" class=\"data row4 col5\" >4</td>\n",
       "                        <td id=\"T_9aca558a_4175_11eb_a341_8c1645b1fcd0row4_col6\" class=\"data row4 col6\" >20</td>\n",
       "                        <td id=\"T_9aca558a_4175_11eb_a341_8c1645b1fcd0row4_col7\" class=\"data row4 col7\" >None</td>\n",
       "                        <td id=\"T_9aca558a_4175_11eb_a341_8c1645b1fcd0row4_col8\" class=\"data row4 col8\" >None</td>\n",
       "            </tr>\n",
       "            <tr>\n",
       "                        <th id=\"T_9aca558a_4175_11eb_a341_8c1645b1fcd0level0_row5\" class=\"row_heading level0 row5\" >1024</th>\n",
       "                        <td id=\"T_9aca558a_4175_11eb_a341_8c1645b1fcd0row5_col0\" class=\"data row5 col0\" >716439118184652801</td>\n",
       "                        <td id=\"T_9aca558a_4175_11eb_a341_8c1645b1fcd0row5_col1\" class=\"data row5 col1\" >2016-04-03 01:36:11+00:00</td>\n",
       "                        <td id=\"T_9aca558a_4175_11eb_a341_8c1645b1fcd0row5_col2\" class=\"data row5 col2\" >Twitter for iPhone</td>\n",
       "                        <td id=\"T_9aca558a_4175_11eb_a341_8c1645b1fcd0row5_col3\" class=\"data row5 col3\" >This is Bluebert. He just saw that both #FinalFur match ups are split 50/50. Amazed af. 11/10 https://t.co/Kky1DPG4iq</td>\n",
       "                        <td id=\"T_9aca558a_4175_11eb_a341_8c1645b1fcd0row5_col4\" class=\"data row5 col4\" >https://twitter.com/dog_rates/status/716439118184652801/photo/1</td>\n",
       "                        <td id=\"T_9aca558a_4175_11eb_a341_8c1645b1fcd0row5_col5\" class=\"data row5 col5\" >50</td>\n",
       "                        <td id=\"T_9aca558a_4175_11eb_a341_8c1645b1fcd0row5_col6\" class=\"data row5 col6\" >50</td>\n",
       "                        <td id=\"T_9aca558a_4175_11eb_a341_8c1645b1fcd0row5_col7\" class=\"data row5 col7\" >Bluebert</td>\n",
       "                        <td id=\"T_9aca558a_4175_11eb_a341_8c1645b1fcd0row5_col8\" class=\"data row5 col8\" >None</td>\n",
       "            </tr>\n",
       "            <tr>\n",
       "                        <th id=\"T_9aca558a_4175_11eb_a341_8c1645b1fcd0level0_row6\" class=\"row_heading level0 row6\" >1050</th>\n",
       "                        <td id=\"T_9aca558a_4175_11eb_a341_8c1645b1fcd0row6_col0\" class=\"data row6 col0\" >713900603437621249</td>\n",
       "                        <td id=\"T_9aca558a_4175_11eb_a341_8c1645b1fcd0row6_col1\" class=\"data row6 col1\" >2016-03-27 01:29:02+00:00</td>\n",
       "                        <td id=\"T_9aca558a_4175_11eb_a341_8c1645b1fcd0row6_col2\" class=\"data row6 col2\" >Twitter for iPhone</td>\n",
       "                        <td id=\"T_9aca558a_4175_11eb_a341_8c1645b1fcd0row6_col3\" class=\"data row6 col3\" >Happy Saturday here's 9 puppers on a bench. 99/90 good work everybody https://t.co/mpvaVxKmc1</td>\n",
       "                        <td id=\"T_9aca558a_4175_11eb_a341_8c1645b1fcd0row6_col4\" class=\"data row6 col4\" >https://twitter.com/dog_rates/status/713900603437621249/photo/1</td>\n",
       "                        <td id=\"T_9aca558a_4175_11eb_a341_8c1645b1fcd0row6_col5\" class=\"data row6 col5\" >99</td>\n",
       "                        <td id=\"T_9aca558a_4175_11eb_a341_8c1645b1fcd0row6_col6\" class=\"data row6 col6\" >90</td>\n",
       "                        <td id=\"T_9aca558a_4175_11eb_a341_8c1645b1fcd0row6_col7\" class=\"data row6 col7\" >None</td>\n",
       "                        <td id=\"T_9aca558a_4175_11eb_a341_8c1645b1fcd0row6_col8\" class=\"data row6 col8\" >None</td>\n",
       "            </tr>\n",
       "            <tr>\n",
       "                        <th id=\"T_9aca558a_4175_11eb_a341_8c1645b1fcd0level0_row7\" class=\"row_heading level0 row7\" >1075</th>\n",
       "                        <td id=\"T_9aca558a_4175_11eb_a341_8c1645b1fcd0row7_col0\" class=\"data row7 col0\" >710658690886586372</td>\n",
       "                        <td id=\"T_9aca558a_4175_11eb_a341_8c1645b1fcd0row7_col1\" class=\"data row7 col1\" >2016-03-18 02:46:49+00:00</td>\n",
       "                        <td id=\"T_9aca558a_4175_11eb_a341_8c1645b1fcd0row7_col2\" class=\"data row7 col2\" >Twitter for iPhone</td>\n",
       "                        <td id=\"T_9aca558a_4175_11eb_a341_8c1645b1fcd0row7_col3\" class=\"data row7 col3\" >Here's a brigade of puppers. All look very prepared for whatever happens next. 80/80 https://t.co/0eb7R1Om12</td>\n",
       "                        <td id=\"T_9aca558a_4175_11eb_a341_8c1645b1fcd0row7_col4\" class=\"data row7 col4\" >https://twitter.com/dog_rates/status/710658690886586372/photo/1</td>\n",
       "                        <td id=\"T_9aca558a_4175_11eb_a341_8c1645b1fcd0row7_col5\" class=\"data row7 col5\" >80</td>\n",
       "                        <td id=\"T_9aca558a_4175_11eb_a341_8c1645b1fcd0row7_col6\" class=\"data row7 col6\" >80</td>\n",
       "                        <td id=\"T_9aca558a_4175_11eb_a341_8c1645b1fcd0row7_col7\" class=\"data row7 col7\" >None</td>\n",
       "                        <td id=\"T_9aca558a_4175_11eb_a341_8c1645b1fcd0row7_col8\" class=\"data row7 col8\" >None</td>\n",
       "            </tr>\n",
       "            <tr>\n",
       "                        <th id=\"T_9aca558a_4175_11eb_a341_8c1645b1fcd0level0_row8\" class=\"row_heading level0 row8\" >1095</th>\n",
       "                        <td id=\"T_9aca558a_4175_11eb_a341_8c1645b1fcd0row8_col0\" class=\"data row8 col0\" >709198395643068416</td>\n",
       "                        <td id=\"T_9aca558a_4175_11eb_a341_8c1645b1fcd0row8_col1\" class=\"data row8 col1\" >2016-03-14 02:04:08+00:00</td>\n",
       "                        <td id=\"T_9aca558a_4175_11eb_a341_8c1645b1fcd0row8_col2\" class=\"data row8 col2\" >Twitter for iPhone</td>\n",
       "                        <td id=\"T_9aca558a_4175_11eb_a341_8c1645b1fcd0row8_col3\" class=\"data row8 col3\" >From left to right:\n",
       "Cletus, Jerome, Alejandro, Burp, &amp; Titson\n",
       "None know where camera is. 45/50 would hug all at once https://t.co/sedre1ivTK</td>\n",
       "                        <td id=\"T_9aca558a_4175_11eb_a341_8c1645b1fcd0row8_col4\" class=\"data row8 col4\" >https://twitter.com/dog_rates/status/709198395643068416/photo/1</td>\n",
       "                        <td id=\"T_9aca558a_4175_11eb_a341_8c1645b1fcd0row8_col5\" class=\"data row8 col5\" >45</td>\n",
       "                        <td id=\"T_9aca558a_4175_11eb_a341_8c1645b1fcd0row8_col6\" class=\"data row8 col6\" >50</td>\n",
       "                        <td id=\"T_9aca558a_4175_11eb_a341_8c1645b1fcd0row8_col7\" class=\"data row8 col7\" >None</td>\n",
       "                        <td id=\"T_9aca558a_4175_11eb_a341_8c1645b1fcd0row8_col8\" class=\"data row8 col8\" >None</td>\n",
       "            </tr>\n",
       "            <tr>\n",
       "                        <th id=\"T_9aca558a_4175_11eb_a341_8c1645b1fcd0level0_row9\" class=\"row_heading level0 row9\" >1172</th>\n",
       "                        <td id=\"T_9aca558a_4175_11eb_a341_8c1645b1fcd0row9_col0\" class=\"data row9 col0\" >704054845121142784</td>\n",
       "                        <td id=\"T_9aca558a_4175_11eb_a341_8c1645b1fcd0row9_col1\" class=\"data row9 col1\" >2016-02-28 21:25:30+00:00</td>\n",
       "                        <td id=\"T_9aca558a_4175_11eb_a341_8c1645b1fcd0row9_col2\" class=\"data row9 col2\" >Twitter for iPhone</td>\n",
       "                        <td id=\"T_9aca558a_4175_11eb_a341_8c1645b1fcd0row9_col3\" class=\"data row9 col3\" >Here is a whole flock of puppers.  60/50 I'll take the lot https://t.co/9dpcw6MdWa</td>\n",
       "                        <td id=\"T_9aca558a_4175_11eb_a341_8c1645b1fcd0row9_col4\" class=\"data row9 col4\" >https://twitter.com/dog_rates/status/704054845121142784/photo/1</td>\n",
       "                        <td id=\"T_9aca558a_4175_11eb_a341_8c1645b1fcd0row9_col5\" class=\"data row9 col5\" >60</td>\n",
       "                        <td id=\"T_9aca558a_4175_11eb_a341_8c1645b1fcd0row9_col6\" class=\"data row9 col6\" >50</td>\n",
       "                        <td id=\"T_9aca558a_4175_11eb_a341_8c1645b1fcd0row9_col7\" class=\"data row9 col7\" >None</td>\n",
       "                        <td id=\"T_9aca558a_4175_11eb_a341_8c1645b1fcd0row9_col8\" class=\"data row9 col8\" >None</td>\n",
       "            </tr>\n",
       "            <tr>\n",
       "                        <th id=\"T_9aca558a_4175_11eb_a341_8c1645b1fcd0level0_row10\" class=\"row_heading level0 row10\" >1254</th>\n",
       "                        <td id=\"T_9aca558a_4175_11eb_a341_8c1645b1fcd0row10_col0\" class=\"data row10 col0\" >697463031882764288</td>\n",
       "                        <td id=\"T_9aca558a_4175_11eb_a341_8c1645b1fcd0row10_col1\" class=\"data row10 col1\" >2016-02-10 16:51:59+00:00</td>\n",
       "                        <td id=\"T_9aca558a_4175_11eb_a341_8c1645b1fcd0row10_col2\" class=\"data row10 col2\" >Twitter for iPhone</td>\n",
       "                        <td id=\"T_9aca558a_4175_11eb_a341_8c1645b1fcd0row10_col3\" class=\"data row10 col3\" >Happy Wednesday here's a bucket of pups. 44/40 would pet all at once https://t.co/HppvrYuamZ</td>\n",
       "                        <td id=\"T_9aca558a_4175_11eb_a341_8c1645b1fcd0row10_col4\" class=\"data row10 col4\" >https://twitter.com/dog_rates/status/697463031882764288/photo/1</td>\n",
       "                        <td id=\"T_9aca558a_4175_11eb_a341_8c1645b1fcd0row10_col5\" class=\"data row10 col5\" >44</td>\n",
       "                        <td id=\"T_9aca558a_4175_11eb_a341_8c1645b1fcd0row10_col6\" class=\"data row10 col6\" >40</td>\n",
       "                        <td id=\"T_9aca558a_4175_11eb_a341_8c1645b1fcd0row10_col7\" class=\"data row10 col7\" >None</td>\n",
       "                        <td id=\"T_9aca558a_4175_11eb_a341_8c1645b1fcd0row10_col8\" class=\"data row10 col8\" >None</td>\n",
       "            </tr>\n",
       "            <tr>\n",
       "                        <th id=\"T_9aca558a_4175_11eb_a341_8c1645b1fcd0level0_row11\" class=\"row_heading level0 row11\" >1455</th>\n",
       "                        <td id=\"T_9aca558a_4175_11eb_a341_8c1645b1fcd0row11_col0\" class=\"data row11 col0\" >684225744407494656</td>\n",
       "                        <td id=\"T_9aca558a_4175_11eb_a341_8c1645b1fcd0row11_col1\" class=\"data row11 col1\" >2016-01-05 04:11:44+00:00</td>\n",
       "                        <td id=\"T_9aca558a_4175_11eb_a341_8c1645b1fcd0row11_col2\" class=\"data row11 col2\" >Twitter for iPhone</td>\n",
       "                        <td id=\"T_9aca558a_4175_11eb_a341_8c1645b1fcd0row11_col3\" class=\"data row11 col3\" >Two sneaky puppers were not initially seen, moving the rating to 143/130. Please forgive us. Thank you https://t.co/kRK51Y5ac3</td>\n",
       "                        <td id=\"T_9aca558a_4175_11eb_a341_8c1645b1fcd0row11_col4\" class=\"data row11 col4\" >https://twitter.com/dog_rates/status/684225744407494656/photo/1,https://twitter.com/dog_rates/status/684225744407494656/photo/1</td>\n",
       "                        <td id=\"T_9aca558a_4175_11eb_a341_8c1645b1fcd0row11_col5\" class=\"data row11 col5\" >143</td>\n",
       "                        <td id=\"T_9aca558a_4175_11eb_a341_8c1645b1fcd0row11_col6\" class=\"data row11 col6\" >130</td>\n",
       "                        <td id=\"T_9aca558a_4175_11eb_a341_8c1645b1fcd0row11_col7\" class=\"data row11 col7\" >None</td>\n",
       "                        <td id=\"T_9aca558a_4175_11eb_a341_8c1645b1fcd0row11_col8\" class=\"data row11 col8\" >None</td>\n",
       "            </tr>\n",
       "            <tr>\n",
       "                        <th id=\"T_9aca558a_4175_11eb_a341_8c1645b1fcd0level0_row12\" class=\"row_heading level0 row12\" >1456</th>\n",
       "                        <td id=\"T_9aca558a_4175_11eb_a341_8c1645b1fcd0row12_col0\" class=\"data row12 col0\" >684222868335505415</td>\n",
       "                        <td id=\"T_9aca558a_4175_11eb_a341_8c1645b1fcd0row12_col1\" class=\"data row12 col1\" >2016-01-05 04:00:18+00:00</td>\n",
       "                        <td id=\"T_9aca558a_4175_11eb_a341_8c1645b1fcd0row12_col2\" class=\"data row12 col2\" >Twitter for iPhone</td>\n",
       "                        <td id=\"T_9aca558a_4175_11eb_a341_8c1645b1fcd0row12_col3\" class=\"data row12 col3\" >Someone help the girl is being mugged. Several are distracting her while two steal her shoes. Clever puppers 121/110 https://t.co/1zfnTJLt55</td>\n",
       "                        <td id=\"T_9aca558a_4175_11eb_a341_8c1645b1fcd0row12_col4\" class=\"data row12 col4\" >https://twitter.com/dog_rates/status/684222868335505415/photo/1</td>\n",
       "                        <td id=\"T_9aca558a_4175_11eb_a341_8c1645b1fcd0row12_col5\" class=\"data row12 col5\" >121</td>\n",
       "                        <td id=\"T_9aca558a_4175_11eb_a341_8c1645b1fcd0row12_col6\" class=\"data row12 col6\" >110</td>\n",
       "                        <td id=\"T_9aca558a_4175_11eb_a341_8c1645b1fcd0row12_col7\" class=\"data row12 col7\" >None</td>\n",
       "                        <td id=\"T_9aca558a_4175_11eb_a341_8c1645b1fcd0row12_col8\" class=\"data row12 col8\" >None</td>\n",
       "            </tr>\n",
       "            <tr>\n",
       "                        <th id=\"T_9aca558a_4175_11eb_a341_8c1645b1fcd0level0_row13\" class=\"row_heading level0 row13\" >1483</th>\n",
       "                        <td id=\"T_9aca558a_4175_11eb_a341_8c1645b1fcd0row13_col0\" class=\"data row13 col0\" >682962037429899265</td>\n",
       "                        <td id=\"T_9aca558a_4175_11eb_a341_8c1645b1fcd0row13_col1\" class=\"data row13 col1\" >2016-01-01 16:30:13+00:00</td>\n",
       "                        <td id=\"T_9aca558a_4175_11eb_a341_8c1645b1fcd0row13_col2\" class=\"data row13 col2\" >Twitter for iPhone</td>\n",
       "                        <td id=\"T_9aca558a_4175_11eb_a341_8c1645b1fcd0row13_col3\" class=\"data row13 col3\" >This is Darrel. He just robbed a 7/11 and is in a high speed police chase. Was just spotted by the helicopter 10/10 https://t.co/7EsP8LmSp5</td>\n",
       "                        <td id=\"T_9aca558a_4175_11eb_a341_8c1645b1fcd0row13_col4\" class=\"data row13 col4\" >https://twitter.com/dog_rates/status/682962037429899265/photo/1</td>\n",
       "                        <td id=\"T_9aca558a_4175_11eb_a341_8c1645b1fcd0row13_col5\" class=\"data row13 col5\" >7</td>\n",
       "                        <td id=\"T_9aca558a_4175_11eb_a341_8c1645b1fcd0row13_col6\" class=\"data row13 col6\" >11</td>\n",
       "                        <td id=\"T_9aca558a_4175_11eb_a341_8c1645b1fcd0row13_col7\" class=\"data row13 col7\" >DNonerrel</td>\n",
       "                        <td id=\"T_9aca558a_4175_11eb_a341_8c1645b1fcd0row13_col8\" class=\"data row13 col8\" >None</td>\n",
       "            </tr>\n",
       "            <tr>\n",
       "                        <th id=\"T_9aca558a_4175_11eb_a341_8c1645b1fcd0level0_row14\" class=\"row_heading level0 row14\" >1600</th>\n",
       "                        <td id=\"T_9aca558a_4175_11eb_a341_8c1645b1fcd0row14_col0\" class=\"data row14 col0\" >677716515794329600</td>\n",
       "                        <td id=\"T_9aca558a_4175_11eb_a341_8c1645b1fcd0row14_col1\" class=\"data row14 col1\" >2015-12-18 05:06:23+00:00</td>\n",
       "                        <td id=\"T_9aca558a_4175_11eb_a341_8c1645b1fcd0row14_col2\" class=\"data row14 col2\" >Twitter for iPhone</td>\n",
       "                        <td id=\"T_9aca558a_4175_11eb_a341_8c1645b1fcd0row14_col3\" class=\"data row14 col3\" >IT'S PUPPERGEDDON. Total of 144/120 ...I think https://t.co/ZanVtAtvIq</td>\n",
       "                        <td id=\"T_9aca558a_4175_11eb_a341_8c1645b1fcd0row14_col4\" class=\"data row14 col4\" >https://twitter.com/dog_rates/status/677716515794329600/photo/1</td>\n",
       "                        <td id=\"T_9aca558a_4175_11eb_a341_8c1645b1fcd0row14_col5\" class=\"data row14 col5\" >144</td>\n",
       "                        <td id=\"T_9aca558a_4175_11eb_a341_8c1645b1fcd0row14_col6\" class=\"data row14 col6\" >120</td>\n",
       "                        <td id=\"T_9aca558a_4175_11eb_a341_8c1645b1fcd0row14_col7\" class=\"data row14 col7\" >None</td>\n",
       "                        <td id=\"T_9aca558a_4175_11eb_a341_8c1645b1fcd0row14_col8\" class=\"data row14 col8\" >None</td>\n",
       "            </tr>\n",
       "            <tr>\n",
       "                        <th id=\"T_9aca558a_4175_11eb_a341_8c1645b1fcd0level0_row15\" class=\"row_heading level0 row15\" >1664</th>\n",
       "                        <td id=\"T_9aca558a_4175_11eb_a341_8c1645b1fcd0row15_col0\" class=\"data row15 col0\" >675853064436391936</td>\n",
       "                        <td id=\"T_9aca558a_4175_11eb_a341_8c1645b1fcd0row15_col1\" class=\"data row15 col1\" >2015-12-13 01:41:41+00:00</td>\n",
       "                        <td id=\"T_9aca558a_4175_11eb_a341_8c1645b1fcd0row15_col2\" class=\"data row15 col2\" >Twitter for iPhone</td>\n",
       "                        <td id=\"T_9aca558a_4175_11eb_a341_8c1645b1fcd0row15_col3\" class=\"data row15 col3\" >Here we have an entire platoon of puppers. Total score: 88/80 would pet all at once https://t.co/y93p6FLvVw</td>\n",
       "                        <td id=\"T_9aca558a_4175_11eb_a341_8c1645b1fcd0row15_col4\" class=\"data row15 col4\" >https://twitter.com/dog_rates/status/675853064436391936/photo/1,https://twitter.com/dog_rates/status/675853064436391936/photo/1</td>\n",
       "                        <td id=\"T_9aca558a_4175_11eb_a341_8c1645b1fcd0row15_col5\" class=\"data row15 col5\" >88</td>\n",
       "                        <td id=\"T_9aca558a_4175_11eb_a341_8c1645b1fcd0row15_col6\" class=\"data row15 col6\" >80</td>\n",
       "                        <td id=\"T_9aca558a_4175_11eb_a341_8c1645b1fcd0row15_col7\" class=\"data row15 col7\" >None</td>\n",
       "                        <td id=\"T_9aca558a_4175_11eb_a341_8c1645b1fcd0row15_col8\" class=\"data row15 col8\" >None</td>\n",
       "            </tr>\n",
       "    </tbody></table>"
      ],
      "text/plain": [
       "<pandas.io.formats.style.Styler at 0x13f4676c0a0>"
      ]
     },
     "execution_count": 224,
     "metadata": {},
     "output_type": "execute_result"
    }
   ],
   "source": [
    "#Investigate the denominators that are greater than 10\n",
    "\n",
    "pd.set_option('display.width', 1000)\n",
    "\n",
    "denom_outliers = archive_clean.query(\"rating_denominator > 10\")\n",
    "denom_outliers.style.set_properties(subset=['text'], **{'width': '300px'})"
   ]
  },
  {
   "cell_type": "code",
   "execution_count": 225,
   "metadata": {},
   "outputs": [],
   "source": [
    "#These are the errors that do not have a denominator of 10 and the text does not give a correct rating\n",
    "id_errors = [ 832088576586297345,820690176645140481,758467244762497024,\n",
    "            731156023742988288,713900603437621249,710658690886586372,\n",
    "            709198395643068416,704054845121142784,697463031882764288,\n",
    "            686035780142297088,684225744407494656,684222868335505415,\n",
    "            682808988178739200,677716515794329600,675853064436391936 ]"
   ]
  },
  {
   "cell_type": "code",
   "execution_count": 226,
   "metadata": {},
   "outputs": [],
   "source": [
    "#Set the correct values for these tweets\n",
    "\n",
    "archive_clean.at[1068,'rating_numerator'] = 11\n",
    "archive_clean.at[1068,'rating_denominator'] = 10\n",
    "archive_clean.at[1165,'rating_numerator'] = 13\n",
    "archive_clean.at[1165,'rating_denominator'] = 10\n",
    "archive_clean.at[1202,'rating_numerator'] = 11\n",
    "archive_clean.at[1202,'rating_denominator'] = 10\n",
    "archive_clean.at[1662,'rating_numerator'] = 10\n",
    "archive_clean.at[1662,'rating_denominator'] = 10"
   ]
  },
  {
   "cell_type": "code",
   "execution_count": 227,
   "metadata": {},
   "outputs": [],
   "source": [
    "#Drop the tweets that we don't have ratings for\n",
    "archive_clean = archive_clean[~archive_clean['tweet_id'].isin(id_errors)]"
   ]
  },
  {
   "cell_type": "code",
   "execution_count": 228,
   "metadata": {},
   "outputs": [
    {
     "data": {
      "text/html": [
       "<div>\n",
       "<style scoped>\n",
       "    .dataframe tbody tr th:only-of-type {\n",
       "        vertical-align: middle;\n",
       "    }\n",
       "\n",
       "    .dataframe tbody tr th {\n",
       "        vertical-align: top;\n",
       "    }\n",
       "\n",
       "    .dataframe thead th {\n",
       "        text-align: right;\n",
       "    }\n",
       "</style>\n",
       "<table border=\"1\" class=\"dataframe\">\n",
       "  <thead>\n",
       "    <tr style=\"text-align: right;\">\n",
       "      <th></th>\n",
       "      <th>tweet_id</th>\n",
       "      <th>timestamp</th>\n",
       "      <th>source</th>\n",
       "      <th>text</th>\n",
       "      <th>expanded_urls</th>\n",
       "      <th>rating_numerator</th>\n",
       "      <th>rating_denominator</th>\n",
       "      <th>name</th>\n",
       "      <th>dog_stage</th>\n",
       "    </tr>\n",
       "  </thead>\n",
       "  <tbody>\n",
       "    <tr>\n",
       "      <th>363</th>\n",
       "      <td>820690176645140481</td>\n",
       "      <td>2017-01-15 17:52:40+00:00</td>\n",
       "      <td>Twitter for iPhone</td>\n",
       "      <td>The floofs have been released I repeat the floofs have been released. 84/70 https://t.co/NIYC820tmd</td>\n",
       "      <td>https://twitter.com/dog_rates/status/820690176645140481/photo/1,https://twitter.com/dog_rates/status/820690176645140481/photo/1,https://twitter.com/dog_rates/status/820690176645140481/photo/1</td>\n",
       "      <td>84</td>\n",
       "      <td>70</td>\n",
       "      <td>None</td>\n",
       "      <td>None</td>\n",
       "    </tr>\n",
       "    <tr>\n",
       "      <th>733</th>\n",
       "      <td>758467244762497024</td>\n",
       "      <td>2016-07-28 01:00:57+00:00</td>\n",
       "      <td>Twitter for iPhone</td>\n",
       "      <td>Why does this never happen at my front door... 165/150 https://t.co/HmwrdfEfUE</td>\n",
       "      <td>https://twitter.com/dog_rates/status/758467244762497024/video/1</td>\n",
       "      <td>165</td>\n",
       "      <td>150</td>\n",
       "      <td>None</td>\n",
       "      <td>None</td>\n",
       "    </tr>\n",
       "    <tr>\n",
       "      <th>890</th>\n",
       "      <td>740373189193256964</td>\n",
       "      <td>2016-06-08 02:41:38+00:00</td>\n",
       "      <td>Twitter for iPhone</td>\n",
       "      <td>After so many requests, this is Bretagne. She was the last surviving 9/11 search dog, and our second ever 14/10. RIP https://t.co/XAVDNDaVgQ</td>\n",
       "      <td>https://twitter.com/dog_rates/status/740373189193256964/photo/1,https://twitter.com/dog_rates/status/740373189193256964/photo/1,https://twitter.com/dog_rates/status/740373189193256964/photo/1,https://twitter.com/dog_rates/status/740373189193256964/photo/1</td>\n",
       "      <td>9</td>\n",
       "      <td>11</td>\n",
       "      <td>None</td>\n",
       "      <td>None</td>\n",
       "    </tr>\n",
       "    <tr>\n",
       "      <th>942</th>\n",
       "      <td>731156023742988288</td>\n",
       "      <td>2016-05-13 16:15:54+00:00</td>\n",
       "      <td>Twitter for iPhone</td>\n",
       "      <td>Say hello to this unbelievably well behaved squad of doggos. 204/170 would try to pet all at once https://t.co/yGQI3He3xv</td>\n",
       "      <td>https://twitter.com/dog_rates/status/731156023742988288/photo/1</td>\n",
       "      <td>204</td>\n",
       "      <td>170</td>\n",
       "      <td>this</td>\n",
       "      <td>None</td>\n",
       "    </tr>\n",
       "    <tr>\n",
       "      <th>987</th>\n",
       "      <td>722974582966214656</td>\n",
       "      <td>2016-04-21 02:25:47+00:00</td>\n",
       "      <td>Twitter for iPhone</td>\n",
       "      <td>Happy 4/20 from the squad! 13/10 for all https://t.co/eV1diwds8a</td>\n",
       "      <td>https://twitter.com/dog_rates/status/722974582966214656/photo/1</td>\n",
       "      <td>4</td>\n",
       "      <td>20</td>\n",
       "      <td>None</td>\n",
       "      <td>None</td>\n",
       "    </tr>\n",
       "    <tr>\n",
       "      <th>1024</th>\n",
       "      <td>716439118184652801</td>\n",
       "      <td>2016-04-03 01:36:11+00:00</td>\n",
       "      <td>Twitter for iPhone</td>\n",
       "      <td>This is Bluebert. He just saw that both #FinalFur match ups are split 50/50. Amazed af. 11/10 https://t.co/Kky1DPG4iq</td>\n",
       "      <td>https://twitter.com/dog_rates/status/716439118184652801/photo/1</td>\n",
       "      <td>50</td>\n",
       "      <td>50</td>\n",
       "      <td>Bluebert</td>\n",
       "      <td>None</td>\n",
       "    </tr>\n",
       "    <tr>\n",
       "      <th>1050</th>\n",
       "      <td>713900603437621249</td>\n",
       "      <td>2016-03-27 01:29:02+00:00</td>\n",
       "      <td>Twitter for iPhone</td>\n",
       "      <td>Happy Saturday here's 9 puppers on a bench. 99/90 good work everybody https://t.co/mpvaVxKmc1</td>\n",
       "      <td>https://twitter.com/dog_rates/status/713900603437621249/photo/1</td>\n",
       "      <td>99</td>\n",
       "      <td>90</td>\n",
       "      <td>None</td>\n",
       "      <td>None</td>\n",
       "    </tr>\n",
       "    <tr>\n",
       "      <th>1075</th>\n",
       "      <td>710658690886586372</td>\n",
       "      <td>2016-03-18 02:46:49+00:00</td>\n",
       "      <td>Twitter for iPhone</td>\n",
       "      <td>Here's a brigade of puppers. All look very prepared for whatever happens next. 80/80 https://t.co/0eb7R1Om12</td>\n",
       "      <td>https://twitter.com/dog_rates/status/710658690886586372/photo/1</td>\n",
       "      <td>80</td>\n",
       "      <td>80</td>\n",
       "      <td>None</td>\n",
       "      <td>None</td>\n",
       "    </tr>\n",
       "    <tr>\n",
       "      <th>1095</th>\n",
       "      <td>709198395643068416</td>\n",
       "      <td>2016-03-14 02:04:08+00:00</td>\n",
       "      <td>Twitter for iPhone</td>\n",
       "      <td>From left to right:\\nCletus, Jerome, Alejandro, Burp, &amp;amp; Titson\\nNone know where camera is. 45/50 would hug all at once https://t.co/sedre1ivTK</td>\n",
       "      <td>https://twitter.com/dog_rates/status/709198395643068416/photo/1</td>\n",
       "      <td>45</td>\n",
       "      <td>50</td>\n",
       "      <td>None</td>\n",
       "      <td>None</td>\n",
       "    </tr>\n",
       "    <tr>\n",
       "      <th>1172</th>\n",
       "      <td>704054845121142784</td>\n",
       "      <td>2016-02-28 21:25:30+00:00</td>\n",
       "      <td>Twitter for iPhone</td>\n",
       "      <td>Here is a whole flock of puppers.  60/50 I'll take the lot https://t.co/9dpcw6MdWa</td>\n",
       "      <td>https://twitter.com/dog_rates/status/704054845121142784/photo/1</td>\n",
       "      <td>60</td>\n",
       "      <td>50</td>\n",
       "      <td>None</td>\n",
       "      <td>None</td>\n",
       "    </tr>\n",
       "    <tr>\n",
       "      <th>1254</th>\n",
       "      <td>697463031882764288</td>\n",
       "      <td>2016-02-10 16:51:59+00:00</td>\n",
       "      <td>Twitter for iPhone</td>\n",
       "      <td>Happy Wednesday here's a bucket of pups. 44/40 would pet all at once https://t.co/HppvrYuamZ</td>\n",
       "      <td>https://twitter.com/dog_rates/status/697463031882764288/photo/1</td>\n",
       "      <td>44</td>\n",
       "      <td>40</td>\n",
       "      <td>None</td>\n",
       "      <td>None</td>\n",
       "    </tr>\n",
       "    <tr>\n",
       "      <th>1455</th>\n",
       "      <td>684225744407494656</td>\n",
       "      <td>2016-01-05 04:11:44+00:00</td>\n",
       "      <td>Twitter for iPhone</td>\n",
       "      <td>Two sneaky puppers were not initially seen, moving the rating to 143/130. Please forgive us. Thank you https://t.co/kRK51Y5ac3</td>\n",
       "      <td>https://twitter.com/dog_rates/status/684225744407494656/photo/1,https://twitter.com/dog_rates/status/684225744407494656/photo/1</td>\n",
       "      <td>143</td>\n",
       "      <td>130</td>\n",
       "      <td>None</td>\n",
       "      <td>None</td>\n",
       "    </tr>\n",
       "    <tr>\n",
       "      <th>1456</th>\n",
       "      <td>684222868335505415</td>\n",
       "      <td>2016-01-05 04:00:18+00:00</td>\n",
       "      <td>Twitter for iPhone</td>\n",
       "      <td>Someone help the girl is being mugged. Several are distracting her while two steal her shoes. Clever puppers 121/110 https://t.co/1zfnTJLt55</td>\n",
       "      <td>https://twitter.com/dog_rates/status/684222868335505415/photo/1</td>\n",
       "      <td>121</td>\n",
       "      <td>110</td>\n",
       "      <td>None</td>\n",
       "      <td>None</td>\n",
       "    </tr>\n",
       "    <tr>\n",
       "      <th>1483</th>\n",
       "      <td>682962037429899265</td>\n",
       "      <td>2016-01-01 16:30:13+00:00</td>\n",
       "      <td>Twitter for iPhone</td>\n",
       "      <td>This is Darrel. He just robbed a 7/11 and is in a high speed police chase. Was just spotted by the helicopter 10/10 https://t.co/7EsP8LmSp5</td>\n",
       "      <td>https://twitter.com/dog_rates/status/682962037429899265/photo/1</td>\n",
       "      <td>7</td>\n",
       "      <td>11</td>\n",
       "      <td>DNonerrel</td>\n",
       "      <td>None</td>\n",
       "    </tr>\n",
       "    <tr>\n",
       "      <th>1600</th>\n",
       "      <td>677716515794329600</td>\n",
       "      <td>2015-12-18 05:06:23+00:00</td>\n",
       "      <td>Twitter for iPhone</td>\n",
       "      <td>IT'S PUPPERGEDDON. Total of 144/120 ...I think https://t.co/ZanVtAtvIq</td>\n",
       "      <td>https://twitter.com/dog_rates/status/677716515794329600/photo/1</td>\n",
       "      <td>144</td>\n",
       "      <td>120</td>\n",
       "      <td>None</td>\n",
       "      <td>None</td>\n",
       "    </tr>\n",
       "    <tr>\n",
       "      <th>1664</th>\n",
       "      <td>675853064436391936</td>\n",
       "      <td>2015-12-13 01:41:41+00:00</td>\n",
       "      <td>Twitter for iPhone</td>\n",
       "      <td>Here we have an entire platoon of puppers. Total score: 88/80 would pet all at once https://t.co/y93p6FLvVw</td>\n",
       "      <td>https://twitter.com/dog_rates/status/675853064436391936/photo/1,https://twitter.com/dog_rates/status/675853064436391936/photo/1</td>\n",
       "      <td>88</td>\n",
       "      <td>80</td>\n",
       "      <td>None</td>\n",
       "      <td>None</td>\n",
       "    </tr>\n",
       "  </tbody>\n",
       "</table>\n",
       "</div>"
      ],
      "text/plain": [
       "                tweet_id                 timestamp              source                                                                                                                                                text                                                                                                                                                                                                                                                    expanded_urls  rating_numerator  rating_denominator       name dog_stage\n",
       "363   820690176645140481 2017-01-15 17:52:40+00:00  Twitter for iPhone                                                 The floofs have been released I repeat the floofs have been released. 84/70 https://t.co/NIYC820tmd                                                                  https://twitter.com/dog_rates/status/820690176645140481/photo/1,https://twitter.com/dog_rates/status/820690176645140481/photo/1,https://twitter.com/dog_rates/status/820690176645140481/photo/1                84                  70       None      None\n",
       "733   758467244762497024 2016-07-28 01:00:57+00:00  Twitter for iPhone                                                                      Why does this never happen at my front door... 165/150 https://t.co/HmwrdfEfUE                                                                                                                                                                                                  https://twitter.com/dog_rates/status/758467244762497024/video/1               165                 150       None      None\n",
       "890   740373189193256964 2016-06-08 02:41:38+00:00  Twitter for iPhone        After so many requests, this is Bretagne. She was the last surviving 9/11 search dog, and our second ever 14/10. RIP https://t.co/XAVDNDaVgQ  https://twitter.com/dog_rates/status/740373189193256964/photo/1,https://twitter.com/dog_rates/status/740373189193256964/photo/1,https://twitter.com/dog_rates/status/740373189193256964/photo/1,https://twitter.com/dog_rates/status/740373189193256964/photo/1                 9                  11       None      None\n",
       "942   731156023742988288 2016-05-13 16:15:54+00:00  Twitter for iPhone                           Say hello to this unbelievably well behaved squad of doggos. 204/170 would try to pet all at once https://t.co/yGQI3He3xv                                                                                                                                                                                                  https://twitter.com/dog_rates/status/731156023742988288/photo/1               204                 170       this      None\n",
       "987   722974582966214656 2016-04-21 02:25:47+00:00  Twitter for iPhone                                                                                    Happy 4/20 from the squad! 13/10 for all https://t.co/eV1diwds8a                                                                                                                                                                                                  https://twitter.com/dog_rates/status/722974582966214656/photo/1                 4                  20       None      None\n",
       "1024  716439118184652801 2016-04-03 01:36:11+00:00  Twitter for iPhone                               This is Bluebert. He just saw that both #FinalFur match ups are split 50/50. Amazed af. 11/10 https://t.co/Kky1DPG4iq                                                                                                                                                                                                  https://twitter.com/dog_rates/status/716439118184652801/photo/1                50                  50   Bluebert      None\n",
       "1050  713900603437621249 2016-03-27 01:29:02+00:00  Twitter for iPhone                                                       Happy Saturday here's 9 puppers on a bench. 99/90 good work everybody https://t.co/mpvaVxKmc1                                                                                                                                                                                                  https://twitter.com/dog_rates/status/713900603437621249/photo/1                99                  90       None      None\n",
       "1075  710658690886586372 2016-03-18 02:46:49+00:00  Twitter for iPhone                                        Here's a brigade of puppers. All look very prepared for whatever happens next. 80/80 https://t.co/0eb7R1Om12                                                                                                                                                                                                  https://twitter.com/dog_rates/status/710658690886586372/photo/1                80                  80       None      None\n",
       "1095  709198395643068416 2016-03-14 02:04:08+00:00  Twitter for iPhone  From left to right:\\nCletus, Jerome, Alejandro, Burp, &amp; Titson\\nNone know where camera is. 45/50 would hug all at once https://t.co/sedre1ivTK                                                                                                                                                                                                  https://twitter.com/dog_rates/status/709198395643068416/photo/1                45                  50       None      None\n",
       "1172  704054845121142784 2016-02-28 21:25:30+00:00  Twitter for iPhone                                                                  Here is a whole flock of puppers.  60/50 I'll take the lot https://t.co/9dpcw6MdWa                                                                                                                                                                                                  https://twitter.com/dog_rates/status/704054845121142784/photo/1                60                  50       None      None\n",
       "1254  697463031882764288 2016-02-10 16:51:59+00:00  Twitter for iPhone                                                        Happy Wednesday here's a bucket of pups. 44/40 would pet all at once https://t.co/HppvrYuamZ                                                                                                                                                                                                  https://twitter.com/dog_rates/status/697463031882764288/photo/1                44                  40       None      None\n",
       "1455  684225744407494656 2016-01-05 04:11:44+00:00  Twitter for iPhone                      Two sneaky puppers were not initially seen, moving the rating to 143/130. Please forgive us. Thank you https://t.co/kRK51Y5ac3                                                                                                                                  https://twitter.com/dog_rates/status/684225744407494656/photo/1,https://twitter.com/dog_rates/status/684225744407494656/photo/1               143                 130       None      None\n",
       "1456  684222868335505415 2016-01-05 04:00:18+00:00  Twitter for iPhone        Someone help the girl is being mugged. Several are distracting her while two steal her shoes. Clever puppers 121/110 https://t.co/1zfnTJLt55                                                                                                                                                                                                  https://twitter.com/dog_rates/status/684222868335505415/photo/1               121                 110       None      None\n",
       "1483  682962037429899265 2016-01-01 16:30:13+00:00  Twitter for iPhone         This is Darrel. He just robbed a 7/11 and is in a high speed police chase. Was just spotted by the helicopter 10/10 https://t.co/7EsP8LmSp5                                                                                                                                                                                                  https://twitter.com/dog_rates/status/682962037429899265/photo/1                 7                  11  DNonerrel      None\n",
       "1600  677716515794329600 2015-12-18 05:06:23+00:00  Twitter for iPhone                                                                              IT'S PUPPERGEDDON. Total of 144/120 ...I think https://t.co/ZanVtAtvIq                                                                                                                                                                                                  https://twitter.com/dog_rates/status/677716515794329600/photo/1               144                 120       None      None\n",
       "1664  675853064436391936 2015-12-13 01:41:41+00:00  Twitter for iPhone                                         Here we have an entire platoon of puppers. Total score: 88/80 would pet all at once https://t.co/y93p6FLvVw                                                                                                                                  https://twitter.com/dog_rates/status/675853064436391936/photo/1,https://twitter.com/dog_rates/status/675853064436391936/photo/1                88                  80       None      None"
      ]
     },
     "execution_count": 228,
     "metadata": {},
     "output_type": "execute_result"
    }
   ],
   "source": [
    "#denom_outliers should now be an empty dataframe as we have dropped the errors and corrected the ones we could find ratings for\n",
    "denom_outliers = archive_clean.query(\"rating_denominator > 10\")\n",
    "denom_outliers = denom_outliers[~denom_outliers['tweet_id'].isin(id_errors)]\n",
    "denom_outliers"
   ]
  },
  {
   "cell_type": "code",
   "execution_count": 229,
   "metadata": {},
   "outputs": [
    {
     "data": {
      "text/html": [
       "<div>\n",
       "<style scoped>\n",
       "    .dataframe tbody tr th:only-of-type {\n",
       "        vertical-align: middle;\n",
       "    }\n",
       "\n",
       "    .dataframe tbody tr th {\n",
       "        vertical-align: top;\n",
       "    }\n",
       "\n",
       "    .dataframe thead th {\n",
       "        text-align: right;\n",
       "    }\n",
       "</style>\n",
       "<table border=\"1\" class=\"dataframe\">\n",
       "  <thead>\n",
       "    <tr style=\"text-align: right;\">\n",
       "      <th></th>\n",
       "      <th>tweet_id</th>\n",
       "      <th>timestamp</th>\n",
       "      <th>source</th>\n",
       "      <th>text</th>\n",
       "      <th>expanded_urls</th>\n",
       "      <th>rating_numerator</th>\n",
       "      <th>rating_denominator</th>\n",
       "      <th>name</th>\n",
       "      <th>dog_stage</th>\n",
       "    </tr>\n",
       "  </thead>\n",
       "  <tbody>\n",
       "    <tr>\n",
       "      <th>804</th>\n",
       "      <td>749981277374128128</td>\n",
       "      <td>2016-07-04 15:00:45+00:00</td>\n",
       "      <td>TweetDeck</td>\n",
       "      <td>This is Atticus. He's quite simply America af. 1776/10 https://t.co/GRXwMxLBkh</td>\n",
       "      <td>https://twitter.com/dog_rates/status/749981277374128128/photo/1</td>\n",
       "      <td>1776</td>\n",
       "      <td>10</td>\n",
       "      <td>Atticus</td>\n",
       "      <td>None</td>\n",
       "    </tr>\n",
       "    <tr>\n",
       "      <th>1895</th>\n",
       "      <td>670842764863651840</td>\n",
       "      <td>2015-11-29 05:52:33+00:00</td>\n",
       "      <td>Twitter for iPhone</td>\n",
       "      <td>After so many requests... here you go.\\n\\nGood dogg. 420/10 https://t.co/yfAAo1gdeY</td>\n",
       "      <td>https://twitter.com/dog_rates/status/670842764863651840/photo/1</td>\n",
       "      <td>420</td>\n",
       "      <td>10</td>\n",
       "      <td>None</td>\n",
       "      <td>None</td>\n",
       "    </tr>\n",
       "    <tr>\n",
       "      <th>942</th>\n",
       "      <td>731156023742988288</td>\n",
       "      <td>2016-05-13 16:15:54+00:00</td>\n",
       "      <td>Twitter for iPhone</td>\n",
       "      <td>Say hello to this unbelievably well behaved squad of doggos. 204/170 would try to pet all at once https://t.co/yGQI3He3xv</td>\n",
       "      <td>https://twitter.com/dog_rates/status/731156023742988288/photo/1</td>\n",
       "      <td>204</td>\n",
       "      <td>170</td>\n",
       "      <td>this</td>\n",
       "      <td>None</td>\n",
       "    </tr>\n",
       "    <tr>\n",
       "      <th>733</th>\n",
       "      <td>758467244762497024</td>\n",
       "      <td>2016-07-28 01:00:57+00:00</td>\n",
       "      <td>Twitter for iPhone</td>\n",
       "      <td>Why does this never happen at my front door... 165/150 https://t.co/HmwrdfEfUE</td>\n",
       "      <td>https://twitter.com/dog_rates/status/758467244762497024/video/1</td>\n",
       "      <td>165</td>\n",
       "      <td>150</td>\n",
       "      <td>None</td>\n",
       "      <td>None</td>\n",
       "    </tr>\n",
       "    <tr>\n",
       "      <th>1600</th>\n",
       "      <td>677716515794329600</td>\n",
       "      <td>2015-12-18 05:06:23+00:00</td>\n",
       "      <td>Twitter for iPhone</td>\n",
       "      <td>IT'S PUPPERGEDDON. Total of 144/120 ...I think https://t.co/ZanVtAtvIq</td>\n",
       "      <td>https://twitter.com/dog_rates/status/677716515794329600/photo/1</td>\n",
       "      <td>144</td>\n",
       "      <td>120</td>\n",
       "      <td>None</td>\n",
       "      <td>None</td>\n",
       "    </tr>\n",
       "    <tr>\n",
       "      <th>...</th>\n",
       "      <td>...</td>\n",
       "      <td>...</td>\n",
       "      <td>...</td>\n",
       "      <td>...</td>\n",
       "      <td>...</td>\n",
       "      <td>...</td>\n",
       "      <td>...</td>\n",
       "      <td>...</td>\n",
       "      <td>...</td>\n",
       "    </tr>\n",
       "    <tr>\n",
       "      <th>1690</th>\n",
       "      <td>675153376133427200</td>\n",
       "      <td>2015-12-11 03:21:23+00:00</td>\n",
       "      <td>Twitter for iPhone</td>\n",
       "      <td>What kind of person sends in a picture without a dog in it? 1/10 just because that's a nice table https://t.co/RDXCfk8hK0</td>\n",
       "      <td>https://twitter.com/dog_rates/status/675153376133427200/photo/1</td>\n",
       "      <td>1</td>\n",
       "      <td>10</td>\n",
       "      <td>None</td>\n",
       "      <td>None</td>\n",
       "    </tr>\n",
       "    <tr>\n",
       "      <th>2157</th>\n",
       "      <td>666104133288665088</td>\n",
       "      <td>2015-11-16 04:02:55+00:00</td>\n",
       "      <td>Twitter for iPhone</td>\n",
       "      <td>Not familiar with this breed. No tail (weird). Only 2 legs. Doesn't bark. Surprisingly quick. Shits eggs. 1/10 https://t.co/Asgdc6kuLX</td>\n",
       "      <td>https://twitter.com/dog_rates/status/666104133288665088/photo/1</td>\n",
       "      <td>1</td>\n",
       "      <td>10</td>\n",
       "      <td>None</td>\n",
       "      <td>None</td>\n",
       "    </tr>\n",
       "    <tr>\n",
       "      <th>2080</th>\n",
       "      <td>667549055577362432</td>\n",
       "      <td>2015-11-20 03:44:31+00:00</td>\n",
       "      <td>Twitter Web Client</td>\n",
       "      <td>Never seen dog like this. Breathes heavy. Tilts head in a pattern. No bark. Shitty at fetch. Not even cordless. 1/10 https://t.co/i9iSGNn3fx</td>\n",
       "      <td>https://twitter.com/dog_rates/status/667549055577362432/photo/1</td>\n",
       "      <td>1</td>\n",
       "      <td>10</td>\n",
       "      <td>None</td>\n",
       "      <td>None</td>\n",
       "    </tr>\n",
       "    <tr>\n",
       "      <th>840</th>\n",
       "      <td>746906459439529985</td>\n",
       "      <td>2016-06-26 03:22:31+00:00</td>\n",
       "      <td>Twitter for iPhone</td>\n",
       "      <td>PUPDATE: can't see any. Even if I could, I couldn't reach them to pet. 0/10 much disappointment https://t.co/c7WXaB2nqX</td>\n",
       "      <td>https://twitter.com/dog_rates/status/746906459439529985/photo/1</td>\n",
       "      <td>0</td>\n",
       "      <td>10</td>\n",
       "      <td>None</td>\n",
       "      <td>None</td>\n",
       "    </tr>\n",
       "    <tr>\n",
       "      <th>265</th>\n",
       "      <td>835152434251116546</td>\n",
       "      <td>2017-02-24 15:40:31+00:00</td>\n",
       "      <td>Twitter for iPhone</td>\n",
       "      <td>When you're so blinded by your systematic plagiarism that you forget what day it is. 0/10 https://t.co/YbEJPkg4Ag</td>\n",
       "      <td>https://twitter.com/dog_rates/status/835152434251116546/photo/1,https://twitter.com/dog_rates/status/835152434251116546/photo/1,https://twitter.com/dog_rates/status/835152434251116546/photo/1</td>\n",
       "      <td>0</td>\n",
       "      <td>10</td>\n",
       "      <td>None</td>\n",
       "      <td>None</td>\n",
       "    </tr>\n",
       "  </tbody>\n",
       "</table>\n",
       "<p>2467 rows × 9 columns</p>\n",
       "</div>"
      ],
      "text/plain": [
       "                tweet_id                 timestamp              source                                                                                                                                          text                                                                                                                                                                                    expanded_urls  rating_numerator  rating_denominator     name dog_stage\n",
       "804   749981277374128128 2016-07-04 15:00:45+00:00           TweetDeck                                                                This is Atticus. He's quite simply America af. 1776/10 https://t.co/GRXwMxLBkh                                                                                                                                  https://twitter.com/dog_rates/status/749981277374128128/photo/1              1776                  10  Atticus      None\n",
       "1895  670842764863651840 2015-11-29 05:52:33+00:00  Twitter for iPhone                                                           After so many requests... here you go.\\n\\nGood dogg. 420/10 https://t.co/yfAAo1gdeY                                                                                                                                  https://twitter.com/dog_rates/status/670842764863651840/photo/1               420                  10     None      None\n",
       "942   731156023742988288 2016-05-13 16:15:54+00:00  Twitter for iPhone                     Say hello to this unbelievably well behaved squad of doggos. 204/170 would try to pet all at once https://t.co/yGQI3He3xv                                                                                                                                  https://twitter.com/dog_rates/status/731156023742988288/photo/1               204                 170     this      None\n",
       "733   758467244762497024 2016-07-28 01:00:57+00:00  Twitter for iPhone                                                                Why does this never happen at my front door... 165/150 https://t.co/HmwrdfEfUE                                                                                                                                  https://twitter.com/dog_rates/status/758467244762497024/video/1               165                 150     None      None\n",
       "1600  677716515794329600 2015-12-18 05:06:23+00:00  Twitter for iPhone                                                                        IT'S PUPPERGEDDON. Total of 144/120 ...I think https://t.co/ZanVtAtvIq                                                                                                                                  https://twitter.com/dog_rates/status/677716515794329600/photo/1               144                 120     None      None\n",
       "...                  ...                       ...                 ...                                                                                                                                           ...                                                                                                                                                                                              ...               ...                 ...      ...       ...\n",
       "1690  675153376133427200 2015-12-11 03:21:23+00:00  Twitter for iPhone                     What kind of person sends in a picture without a dog in it? 1/10 just because that's a nice table https://t.co/RDXCfk8hK0                                                                                                                                  https://twitter.com/dog_rates/status/675153376133427200/photo/1                 1                  10     None      None\n",
       "2157  666104133288665088 2015-11-16 04:02:55+00:00  Twitter for iPhone        Not familiar with this breed. No tail (weird). Only 2 legs. Doesn't bark. Surprisingly quick. Shits eggs. 1/10 https://t.co/Asgdc6kuLX                                                                                                                                  https://twitter.com/dog_rates/status/666104133288665088/photo/1                 1                  10     None      None\n",
       "2080  667549055577362432 2015-11-20 03:44:31+00:00  Twitter Web Client  Never seen dog like this. Breathes heavy. Tilts head in a pattern. No bark. Shitty at fetch. Not even cordless. 1/10 https://t.co/i9iSGNn3fx                                                                                                                                  https://twitter.com/dog_rates/status/667549055577362432/photo/1                 1                  10     None      None\n",
       "840   746906459439529985 2016-06-26 03:22:31+00:00  Twitter for iPhone                       PUPDATE: can't see any. Even if I could, I couldn't reach them to pet. 0/10 much disappointment https://t.co/c7WXaB2nqX                                                                                                                                  https://twitter.com/dog_rates/status/746906459439529985/photo/1                 0                  10     None      None\n",
       "265   835152434251116546 2017-02-24 15:40:31+00:00  Twitter for iPhone                             When you're so blinded by your systematic plagiarism that you forget what day it is. 0/10 https://t.co/YbEJPkg4Ag  https://twitter.com/dog_rates/status/835152434251116546/photo/1,https://twitter.com/dog_rates/status/835152434251116546/photo/1,https://twitter.com/dog_rates/status/835152434251116546/photo/1                 0                  10     None      None\n",
       "\n",
       "[2467 rows x 9 columns]"
      ]
     },
     "execution_count": 229,
     "metadata": {},
     "output_type": "execute_result"
    }
   ],
   "source": [
    "pd.set_option('display.width', 1000)\n",
    "pd.set_option('display.max_colwidth', 1000)\n",
    "archive_clean.sort_values(by = ['rating_numerator'], ascending=False)"
   ]
  },
  {
   "cell_type": "code",
   "execution_count": 230,
   "metadata": {},
   "outputs": [],
   "source": [
    "archive_clean.at[313,'rating_numerator'] = 13\n",
    "archive_clean.at[313,'rating_denominator'] = 10\n",
    "archive_clean.at[695,'rating_numerator'] = 10 \n",
    "archive_clean.at[763,'rating_numerator'] = 11\n",
    "archive_clean.at[1712,'rating_numerator'] = 11\n",
    "archive_clean.at[55,'rating_numerator'] = 13"
   ]
  },
  {
   "cell_type": "code",
   "execution_count": 231,
   "metadata": {},
   "outputs": [],
   "source": [
    "# the biggest correct rating is 14\n",
    "archive_clean = archive_clean[archive_clean.rating_numerator <15]"
   ]
  },
  {
   "cell_type": "code",
   "execution_count": 232,
   "metadata": {},
   "outputs": [
    {
     "data": {
      "text/html": [
       "<div>\n",
       "<style scoped>\n",
       "    .dataframe tbody tr th:only-of-type {\n",
       "        vertical-align: middle;\n",
       "    }\n",
       "\n",
       "    .dataframe tbody tr th {\n",
       "        vertical-align: top;\n",
       "    }\n",
       "\n",
       "    .dataframe thead th {\n",
       "        text-align: right;\n",
       "    }\n",
       "</style>\n",
       "<table border=\"1\" class=\"dataframe\">\n",
       "  <thead>\n",
       "    <tr style=\"text-align: right;\">\n",
       "      <th></th>\n",
       "      <th>tweet_id</th>\n",
       "      <th>timestamp</th>\n",
       "      <th>source</th>\n",
       "      <th>text</th>\n",
       "      <th>expanded_urls</th>\n",
       "      <th>rating_numerator</th>\n",
       "      <th>rating_denominator</th>\n",
       "      <th>name</th>\n",
       "      <th>dog_stage</th>\n",
       "    </tr>\n",
       "  </thead>\n",
       "  <tbody>\n",
       "    <tr>\n",
       "      <th>4857</th>\n",
       "      <td>794205286408003585</td>\n",
       "      <td>2016-11-03 15:51:10+00:00</td>\n",
       "      <td>Twitter for iPhone</td>\n",
       "      <td>This is Laika. She was a space pupper. The first space pupper actually. Orbited earth like a h*ckin boss. 14/10 hero af https://t.co/trSjgY3h4g</td>\n",
       "      <td>https://twitter.com/dog_rates/status/794205286408003585/photo/1,https://twitter.com/dog_rates/status/794205286408003585/photo/1,https://twitter.com/dog_rates/status/794205286408003585/photo/1</td>\n",
       "      <td>14</td>\n",
       "      <td>10</td>\n",
       "      <td>LNoneikNone</td>\n",
       "      <td>pupper</td>\n",
       "    </tr>\n",
       "    <tr>\n",
       "      <th>636</th>\n",
       "      <td>774314403806253056</td>\n",
       "      <td>2016-09-09 18:31:54+00:00</td>\n",
       "      <td>Twitter for iPhone</td>\n",
       "      <td>I WAS SENT THE ACTUAL DOG IN THE PROFILE PIC BY HIS OWNER THIS IS SO WILD. 14/10 ULTIMATE LEGEND STATUS https://t.co/7oQ1wpfxIH</td>\n",
       "      <td>https://twitter.com/dog_rates/status/774314403806253056/photo/1,https://twitter.com/dog_rates/status/774314403806253056/photo/1,https://twitter.com/dog_rates/status/774314403806253056/photo/1,https://twitter.com/dog_rates/status/774314403806253056/photo/1</td>\n",
       "      <td>14</td>\n",
       "      <td>10</td>\n",
       "      <td>None</td>\n",
       "      <td>None</td>\n",
       "    </tr>\n",
       "    <tr>\n",
       "      <th>143</th>\n",
       "      <td>860184849394610176</td>\n",
       "      <td>2017-05-04 17:30:24+00:00</td>\n",
       "      <td>Twitter for iPhone</td>\n",
       "      <td>Here we have perhaps the wisest dog of all. Above average with light sabers. Immortal as h*ck. 14/10 dog, or dog not, there is no try https://t.co/upRYxG4KbG</td>\n",
       "      <td>https://twitter.com/dog_rates/status/860184849394610176/photo/1</td>\n",
       "      <td>14</td>\n",
       "      <td>10</td>\n",
       "      <td>None</td>\n",
       "      <td>None</td>\n",
       "    </tr>\n",
       "    <tr>\n",
       "      <th>4702</th>\n",
       "      <td>822462944365645825</td>\n",
       "      <td>2017-01-20 15:17:01+00:00</td>\n",
       "      <td>Twitter for iPhone</td>\n",
       "      <td>This is Gabe. He was the unequivocal embodiment of a dream meme, but also one h*ck of a pupper. You will be missed by so many. 14/10 RIP https://t.co/M3hZGadUuO</td>\n",
       "      <td>https://twitter.com/dog_rates/status/822462944365645825/photo/1,https://twitter.com/dog_rates/status/822462944365645825/photo/1,https://twitter.com/dog_rates/status/822462944365645825/photo/1,https://twitter.com/dog_rates/status/822462944365645825/photo/1</td>\n",
       "      <td>14</td>\n",
       "      <td>10</td>\n",
       "      <td>GNonebe</td>\n",
       "      <td>pupper</td>\n",
       "    </tr>\n",
       "    <tr>\n",
       "      <th>4521</th>\n",
       "      <td>854120357044912130</td>\n",
       "      <td>2017-04-17 23:52:16+00:00</td>\n",
       "      <td>Twitter for iPhone</td>\n",
       "      <td>Sometimes you guys remind me just how impactful a pupper can be. Cooper will be remembered as a good boy by so many. 14/10 rest easy friend https://t.co/oBL7LEJEzR</td>\n",
       "      <td>https://twitter.com/dog_rates/status/854120357044912130/photo/1,https://twitter.com/dog_rates/status/854120357044912130/photo/1,https://twitter.com/dog_rates/status/854120357044912130/photo/1,https://twitter.com/dog_rates/status/854120357044912130/photo/1</td>\n",
       "      <td>14</td>\n",
       "      <td>10</td>\n",
       "      <td>None</td>\n",
       "      <td>pupper</td>\n",
       "    </tr>\n",
       "  </tbody>\n",
       "</table>\n",
       "</div>"
      ],
      "text/plain": [
       "                tweet_id                 timestamp              source                                                                                                                                                                 text                                                                                                                                                                                                                                                    expanded_urls  rating_numerator  rating_denominator         name dog_stage\n",
       "4857  794205286408003585 2016-11-03 15:51:10+00:00  Twitter for iPhone                      This is Laika. She was a space pupper. The first space pupper actually. Orbited earth like a h*ckin boss. 14/10 hero af https://t.co/trSjgY3h4g                                                                  https://twitter.com/dog_rates/status/794205286408003585/photo/1,https://twitter.com/dog_rates/status/794205286408003585/photo/1,https://twitter.com/dog_rates/status/794205286408003585/photo/1                14                  10  LNoneikNone    pupper\n",
       "636   774314403806253056 2016-09-09 18:31:54+00:00  Twitter for iPhone                                      I WAS SENT THE ACTUAL DOG IN THE PROFILE PIC BY HIS OWNER THIS IS SO WILD. 14/10 ULTIMATE LEGEND STATUS https://t.co/7oQ1wpfxIH  https://twitter.com/dog_rates/status/774314403806253056/photo/1,https://twitter.com/dog_rates/status/774314403806253056/photo/1,https://twitter.com/dog_rates/status/774314403806253056/photo/1,https://twitter.com/dog_rates/status/774314403806253056/photo/1                14                  10         None      None\n",
       "143   860184849394610176 2017-05-04 17:30:24+00:00  Twitter for iPhone        Here we have perhaps the wisest dog of all. Above average with light sabers. Immortal as h*ck. 14/10 dog, or dog not, there is no try https://t.co/upRYxG4KbG                                                                                                                                                                                                  https://twitter.com/dog_rates/status/860184849394610176/photo/1                14                  10         None      None\n",
       "4702  822462944365645825 2017-01-20 15:17:01+00:00  Twitter for iPhone     This is Gabe. He was the unequivocal embodiment of a dream meme, but also one h*ck of a pupper. You will be missed by so many. 14/10 RIP https://t.co/M3hZGadUuO  https://twitter.com/dog_rates/status/822462944365645825/photo/1,https://twitter.com/dog_rates/status/822462944365645825/photo/1,https://twitter.com/dog_rates/status/822462944365645825/photo/1,https://twitter.com/dog_rates/status/822462944365645825/photo/1                14                  10      GNonebe    pupper\n",
       "4521  854120357044912130 2017-04-17 23:52:16+00:00  Twitter for iPhone  Sometimes you guys remind me just how impactful a pupper can be. Cooper will be remembered as a good boy by so many. 14/10 rest easy friend https://t.co/oBL7LEJEzR  https://twitter.com/dog_rates/status/854120357044912130/photo/1,https://twitter.com/dog_rates/status/854120357044912130/photo/1,https://twitter.com/dog_rates/status/854120357044912130/photo/1,https://twitter.com/dog_rates/status/854120357044912130/photo/1                14                  10         None    pupper"
      ]
     },
     "execution_count": 232,
     "metadata": {},
     "output_type": "execute_result"
    }
   ],
   "source": [
    "#it should have all the numerator and denominator outliers removed\n",
    "archive_clean.sort_values(by = ['rating_numerator'], ascending=False).head()"
   ]
  },
  {
   "cell_type": "code",
   "execution_count": 233,
   "metadata": {},
   "outputs": [],
   "source": [
    "# drop unused culomns\n",
    "image_clean.drop('img_num', axis=1, inplace=True)"
   ]
  },
  {
   "cell_type": "markdown",
   "metadata": {},
   "source": [
    "## merging data frames"
   ]
  },
  {
   "cell_type": "code",
   "execution_count": 234,
   "metadata": {},
   "outputs": [],
   "source": [
    "# using merge function make one final dataframe\n",
    " \n",
    "df_master = pd.merge(archive_clean, image_clean, on ='tweet_id', how= 'inner' )\n",
    "df_master = pd.merge(df_master, tweet_clean, on = 'tweet_id', how = 'inner' )"
   ]
  },
  {
   "cell_type": "code",
   "execution_count": 235,
   "metadata": {},
   "outputs": [
    {
     "name": "stdout",
     "output_type": "stream",
     "text": [
      "<class 'pandas.core.frame.DataFrame'>\n",
      "Int64Index: 2212 entries, 0 to 2211\n",
      "Data columns (total 21 columns):\n",
      " #   Column              Non-Null Count  Dtype              \n",
      "---  ------              --------------  -----              \n",
      " 0   tweet_id            2212 non-null   object             \n",
      " 1   timestamp           2212 non-null   datetime64[ns, UTC]\n",
      " 2   source              2212 non-null   object             \n",
      " 3   text                2212 non-null   object             \n",
      " 4   expanded_urls       2212 non-null   object             \n",
      " 5   rating_numerator    2212 non-null   int64              \n",
      " 6   rating_denominator  2212 non-null   int64              \n",
      " 7   name                2212 non-null   object             \n",
      " 8   dog_stage           2212 non-null   object             \n",
      " 9   jpg_url             2212 non-null   object             \n",
      " 10  first_pred          2212 non-null   object             \n",
      " 11  p1_conf             2212 non-null   float64            \n",
      " 12  p1_dog              2212 non-null   bool               \n",
      " 13  second_pred         2212 non-null   object             \n",
      " 14  p2_conf             2212 non-null   float64            \n",
      " 15  p2_dog              2212 non-null   bool               \n",
      " 16  third_pred          2212 non-null   object             \n",
      " 17  p3_conf             2212 non-null   float64            \n",
      " 18  p3_dog              2212 non-null   bool               \n",
      " 19  retweet_count       2212 non-null   int64              \n",
      " 20  favorite_count      2212 non-null   int64              \n",
      "dtypes: bool(3), datetime64[ns, UTC](1), float64(3), int64(4), object(10)\n",
      "memory usage: 334.8+ KB\n"
     ]
    }
   ],
   "source": [
    "# checking result from above code \n",
    "df_master.info()"
   ]
  },
  {
   "cell_type": "code",
   "execution_count": 236,
   "metadata": {},
   "outputs": [
    {
     "data": {
      "text/html": [
       "<div>\n",
       "<style scoped>\n",
       "    .dataframe tbody tr th:only-of-type {\n",
       "        vertical-align: middle;\n",
       "    }\n",
       "\n",
       "    .dataframe tbody tr th {\n",
       "        vertical-align: top;\n",
       "    }\n",
       "\n",
       "    .dataframe thead th {\n",
       "        text-align: right;\n",
       "    }\n",
       "</style>\n",
       "<table border=\"1\" class=\"dataframe\">\n",
       "  <thead>\n",
       "    <tr style=\"text-align: right;\">\n",
       "      <th></th>\n",
       "      <th>tweet_id</th>\n",
       "      <th>timestamp</th>\n",
       "      <th>source</th>\n",
       "      <th>text</th>\n",
       "      <th>expanded_urls</th>\n",
       "      <th>rating_numerator</th>\n",
       "      <th>rating_denominator</th>\n",
       "      <th>name</th>\n",
       "      <th>dog_stage</th>\n",
       "      <th>jpg_url</th>\n",
       "      <th>...</th>\n",
       "      <th>p1_conf</th>\n",
       "      <th>p1_dog</th>\n",
       "      <th>second_pred</th>\n",
       "      <th>p2_conf</th>\n",
       "      <th>p2_dog</th>\n",
       "      <th>third_pred</th>\n",
       "      <th>p3_conf</th>\n",
       "      <th>p3_dog</th>\n",
       "      <th>retweet_count</th>\n",
       "      <th>favorite_count</th>\n",
       "    </tr>\n",
       "  </thead>\n",
       "  <tbody>\n",
       "    <tr>\n",
       "      <th>1417</th>\n",
       "      <td>686730991906516992</td>\n",
       "      <td>2016-01-12 02:06:41+00:00</td>\n",
       "      <td>Twitter for iPhone</td>\n",
       "      <td>I just love this picture. 12/10 lovely af https://t.co/Kc84eFNhYU</td>\n",
       "      <td>https://twitter.com/dog_rates/status/686730991906516992/photo/1</td>\n",
       "      <td>12</td>\n",
       "      <td>10</td>\n",
       "      <td>None</td>\n",
       "      <td>None</td>\n",
       "      <td>https://pbs.twimg.com/media/CYfCMdFWAAA44YA.jpg</td>\n",
       "      <td>...</td>\n",
       "      <td>0.338812</td>\n",
       "      <td>True</td>\n",
       "      <td>newfoundland</td>\n",
       "      <td>0.180925</td>\n",
       "      <td>True</td>\n",
       "      <td>golden retriever</td>\n",
       "      <td>0.180023</td>\n",
       "      <td>True</td>\n",
       "      <td>1350</td>\n",
       "      <td>4543</td>\n",
       "    </tr>\n",
       "    <tr>\n",
       "      <th>863</th>\n",
       "      <td>743980027717509120</td>\n",
       "      <td>2016-06-18 01:33:55+00:00</td>\n",
       "      <td>Twitter for iPhone</td>\n",
       "      <td>This is Geno. He's a Wrinkled Baklavian Velveeta. Looks sad but that's just the extra skin. 11/10 would smoosh face https://t.co/Kxda28JmQ2</td>\n",
       "      <td>https://twitter.com/dog_rates/status/743980027717509120/photo/1</td>\n",
       "      <td>11</td>\n",
       "      <td>10</td>\n",
       "      <td>Geno</td>\n",
       "      <td>None</td>\n",
       "      <td>https://pbs.twimg.com/media/ClMl4VLUYAA5qBb.jpg</td>\n",
       "      <td>...</td>\n",
       "      <td>0.975730</td>\n",
       "      <td>True</td>\n",
       "      <td>rhodesian ridgeback</td>\n",
       "      <td>0.008073</td>\n",
       "      <td>True</td>\n",
       "      <td>pug</td>\n",
       "      <td>0.005571</td>\n",
       "      <td>True</td>\n",
       "      <td>1231</td>\n",
       "      <td>4551</td>\n",
       "    </tr>\n",
       "    <tr>\n",
       "      <th>1827</th>\n",
       "      <td>673270968295534593</td>\n",
       "      <td>2015-12-05 22:41:22+00:00</td>\n",
       "      <td>Twitter for iPhone</td>\n",
       "      <td>This is Mac. His dad's probably a lawyer. 11/10 https://t.co/mjC0QpXGum</td>\n",
       "      <td>https://twitter.com/dog_rates/status/673270968295534593/photo/1</td>\n",
       "      <td>11</td>\n",
       "      <td>10</td>\n",
       "      <td>MNonec</td>\n",
       "      <td>None</td>\n",
       "      <td>https://pbs.twimg.com/media/CVfwXuWWIAAqnoi.jpg</td>\n",
       "      <td>...</td>\n",
       "      <td>0.610453</td>\n",
       "      <td>True</td>\n",
       "      <td>maltese dog</td>\n",
       "      <td>0.166815</td>\n",
       "      <td>True</td>\n",
       "      <td>old english sheepdog</td>\n",
       "      <td>0.132015</td>\n",
       "      <td>True</td>\n",
       "      <td>400</td>\n",
       "      <td>1134</td>\n",
       "    </tr>\n",
       "    <tr>\n",
       "      <th>195</th>\n",
       "      <td>850019790995546112</td>\n",
       "      <td>2017-04-06 16:18:05+00:00</td>\n",
       "      <td>Twitter for iPhone</td>\n",
       "      <td>Say hello to Boomer. He's a sandy pupper. Having a h*ckin blast. 12/10 would pet passionately https://t.co/ecb3LvExde</td>\n",
       "      <td>https://twitter.com/dog_rates/status/850019790995546112/photo/1,https://twitter.com/dog_rates/status/850019790995546112/photo/1,https://twitter.com/dog_rates/status/850019790995546112/photo/1</td>\n",
       "      <td>12</td>\n",
       "      <td>10</td>\n",
       "      <td>Boomer</td>\n",
       "      <td>pupper</td>\n",
       "      <td>https://pbs.twimg.com/media/C8vgfTsXgAA561h.jpg</td>\n",
       "      <td>...</td>\n",
       "      <td>0.759907</td>\n",
       "      <td>True</td>\n",
       "      <td>collie</td>\n",
       "      <td>0.107405</td>\n",
       "      <td>True</td>\n",
       "      <td>pembroke</td>\n",
       "      <td>0.052335</td>\n",
       "      <td>True</td>\n",
       "      <td>5459</td>\n",
       "      <td>21944</td>\n",
       "    </tr>\n",
       "    <tr>\n",
       "      <th>282</th>\n",
       "      <td>832998151111966721</td>\n",
       "      <td>2017-02-18 17:00:10+00:00</td>\n",
       "      <td>Twitter for iPhone</td>\n",
       "      <td>This is Rhino. He arrived at a shelter with an elaborate doggo manual for his new family, written by someone who will always love him. 13/10 https://t.co/QX1h0oqMz0</td>\n",
       "      <td>https://twitter.com/dog_rates/status/832998151111966721/photo/1,https://twitter.com/dog_rates/status/832998151111966721/photo/1</td>\n",
       "      <td>13</td>\n",
       "      <td>10</td>\n",
       "      <td>Rhino</td>\n",
       "      <td>doggo</td>\n",
       "      <td>https://pbs.twimg.com/media/C49nZavUYAEJjGw.jpg</td>\n",
       "      <td>...</td>\n",
       "      <td>0.539036</td>\n",
       "      <td>True</td>\n",
       "      <td>french bulldog</td>\n",
       "      <td>0.317617</td>\n",
       "      <td>True</td>\n",
       "      <td>bull mastiff</td>\n",
       "      <td>0.093928</td>\n",
       "      <td>True</td>\n",
       "      <td>2522</td>\n",
       "      <td>14549</td>\n",
       "    </tr>\n",
       "  </tbody>\n",
       "</table>\n",
       "<p>5 rows × 21 columns</p>\n",
       "</div>"
      ],
      "text/plain": [
       "                tweet_id                 timestamp              source                                                                                                                                                                  text                                                                                                                                                                                    expanded_urls  rating_numerator  rating_denominator    name dog_stage                                          jpg_url  ...   p1_conf  p1_dog          second_pred   p2_conf  p2_dog            third_pred   p3_conf  p3_dog  retweet_count  favorite_count\n",
       "1417  686730991906516992 2016-01-12 02:06:41+00:00  Twitter for iPhone                                                                                                     I just love this picture. 12/10 lovely af https://t.co/Kc84eFNhYU                                                                                                                                  https://twitter.com/dog_rates/status/686730991906516992/photo/1                12                  10    None      None  https://pbs.twimg.com/media/CYfCMdFWAAA44YA.jpg  ...  0.338812    True         newfoundland  0.180925    True      golden retriever  0.180023    True           1350            4543\n",
       "863   743980027717509120 2016-06-18 01:33:55+00:00  Twitter for iPhone                           This is Geno. He's a Wrinkled Baklavian Velveeta. Looks sad but that's just the extra skin. 11/10 would smoosh face https://t.co/Kxda28JmQ2                                                                                                                                  https://twitter.com/dog_rates/status/743980027717509120/photo/1                11                  10    Geno      None  https://pbs.twimg.com/media/ClMl4VLUYAA5qBb.jpg  ...  0.975730    True  rhodesian ridgeback  0.008073    True                   pug  0.005571    True           1231            4551\n",
       "1827  673270968295534593 2015-12-05 22:41:22+00:00  Twitter for iPhone                                                                                               This is Mac. His dad's probably a lawyer. 11/10 https://t.co/mjC0QpXGum                                                                                                                                  https://twitter.com/dog_rates/status/673270968295534593/photo/1                11                  10  MNonec      None  https://pbs.twimg.com/media/CVfwXuWWIAAqnoi.jpg  ...  0.610453    True          maltese dog  0.166815    True  old english sheepdog  0.132015    True            400            1134\n",
       "195   850019790995546112 2017-04-06 16:18:05+00:00  Twitter for iPhone                                                 Say hello to Boomer. He's a sandy pupper. Having a h*ckin blast. 12/10 would pet passionately https://t.co/ecb3LvExde  https://twitter.com/dog_rates/status/850019790995546112/photo/1,https://twitter.com/dog_rates/status/850019790995546112/photo/1,https://twitter.com/dog_rates/status/850019790995546112/photo/1                12                  10  Boomer    pupper  https://pbs.twimg.com/media/C8vgfTsXgAA561h.jpg  ...  0.759907    True               collie  0.107405    True              pembroke  0.052335    True           5459           21944\n",
       "282   832998151111966721 2017-02-18 17:00:10+00:00  Twitter for iPhone  This is Rhino. He arrived at a shelter with an elaborate doggo manual for his new family, written by someone who will always love him. 13/10 https://t.co/QX1h0oqMz0                                                                  https://twitter.com/dog_rates/status/832998151111966721/photo/1,https://twitter.com/dog_rates/status/832998151111966721/photo/1                13                  10   Rhino     doggo  https://pbs.twimg.com/media/C49nZavUYAEJjGw.jpg  ...  0.539036    True       french bulldog  0.317617    True          bull mastiff  0.093928    True           2522           14549\n",
       "\n",
       "[5 rows x 21 columns]"
      ]
     },
     "execution_count": 236,
     "metadata": {},
     "output_type": "execute_result"
    }
   ],
   "source": [
    "df_master.sample(5)"
   ]
  },
  {
   "cell_type": "markdown",
   "metadata": {},
   "source": [
    "### Storing, Analyzing, and Visualizing Data for this Project"
   ]
  },
  {
   "cell_type": "code",
   "execution_count": 237,
   "metadata": {},
   "outputs": [],
   "source": [
    "#Store the clean DataFrame(s) in a CSV file with the main one named twitter_archive_master.csv.\n",
    "\n",
    "\n",
    "df_master.to_csv('twitter_archive_master.csv', index=False, encoding = 'utf-8')"
   ]
  },
  {
   "cell_type": "markdown",
   "metadata": {},
   "source": [
    "### Insight :The most popular dog breed"
   ]
  },
  {
   "cell_type": "code",
   "execution_count": 238,
   "metadata": {},
   "outputs": [
    {
     "data": {
      "text/plain": [
       "dog_stage\n",
       "puppo      22911.318182\n",
       "doggo      16691.926471\n",
       "floofer    13701.375000\n",
       "None        8325.647459\n",
       "pupper      6874.243902\n",
       "Name: favorite_count, dtype: float64"
      ]
     },
     "execution_count": 238,
     "metadata": {},
     "output_type": "execute_result"
    }
   ],
   "source": [
    "# higher favorite_count\n",
    "df_master.groupby('dog_stage').favorite_count.mean().sort_values(ascending = False)"
   ]
  },
  {
   "cell_type": "code",
   "execution_count": 239,
   "metadata": {},
   "outputs": [
    {
     "data": {
      "text/plain": [
       "dog_stage\n",
       "puppo      7096.681818\n",
       "doggo      5980.485294\n",
       "floofer    4776.750000\n",
       "None       2521.160817\n",
       "pupper     2222.400000\n",
       "Name: retweet_count, dtype: float64"
      ]
     },
     "execution_count": 239,
     "metadata": {},
     "output_type": "execute_result"
    }
   ],
   "source": [
    "# higher retweet_count\n",
    "df_master.groupby('dog_stage').retweet_count.mean().sort_values(ascending = False)"
   ]
  },
  {
   "cell_type": "code",
   "execution_count": 240,
   "metadata": {},
   "outputs": [
    {
     "data": {
      "text/plain": [
       "dog_stage\n",
       "puppo      12.045455\n",
       "floofer    11.875000\n",
       "doggo      11.676471\n",
       "pupper     10.609756\n",
       "None       10.491881\n",
       "Name: rating_numerator, dtype: float64"
      ]
     },
     "execution_count": 240,
     "metadata": {},
     "output_type": "execute_result"
    }
   ],
   "source": [
    "# higher rating_numerator\n",
    "df_master.groupby('dog_stage').rating_numerator.mean().sort_values(ascending = False)"
   ]
  },
  {
   "cell_type": "markdown",
   "metadata": {},
   "source": [
    "###  what are the most used source for rating in weRateDogs?"
   ]
  },
  {
   "cell_type": "code",
   "execution_count": 241,
   "metadata": {},
   "outputs": [
    {
     "data": {
      "text/plain": [
       "[12, 27, 2173]"
      ]
     },
     "execution_count": 241,
     "metadata": {},
     "output_type": "execute_result"
    }
   ],
   "source": [
    "df_master.groupby('source')['tweet_id'].count().reset_index()['tweet_id'].tolist()"
   ]
  },
  {
   "cell_type": "code",
   "execution_count": 242,
   "metadata": {},
   "outputs": [
    {
     "data": {
      "image/png": "[encoded data removed]",
      "text/plain": [
       "<Figure size 1080x504 with 1 Axes>"
      ]
     },
     "metadata": {
      "needs_background": "light"
     },
     "output_type": "display_data"
    }
   ],
   "source": [
    "plt.figure(figsize = [15, 7])\n",
    "\n",
    "df_master.groupby('source')['tweet_id'].count().plot(kind='bar')\n",
    "\n",
    "plt.title('Counting Source of Tweets', size='16')\n",
    "plt.xlabel('Tweeting Source')\n",
    "plt.ylabel('No. Tweets');"
   ]
  },
  {
   "cell_type": "markdown",
   "metadata": {},
   "source": [
    "###  what are the most common hour of dogs rating tweets?"
   ]
  },
  {
   "cell_type": "code",
   "execution_count": 243,
   "metadata": {},
   "outputs": [
    {
     "data": {
      "image/png": "[encoded data removed]",
      "text/plain": [
       "<Figure size 1080x360 with 1 Axes>"
      ]
     },
     "metadata": {
      "needs_background": "light"
     },
     "output_type": "display_data"
    }
   ],
   "source": [
    "plt.figure(figsize = [15, 5])\n",
    "\n",
    "df_master.groupby(df_master.timestamp.dt.hour).tweet_id.count().plot(kind='line', marker='o')\n",
    "\n",
    "plt.title('No.of tweets per hour', size='16')\n",
    "plt.xlabel('Hours in 24-hour Notation')\n",
    "plt.ylabel('No. Tweets');"
   ]
  },
  {
   "cell_type": "markdown",
   "metadata": {},
   "source": [
    "###  What are the top ten favorited bread? \n"
   ]
  },
  {
   "cell_type": "code",
   "execution_count": 244,
   "metadata": {},
   "outputs": [
    {
     "data": {
      "image/png": "[encoded data removed]",
      "text/plain": [
       "<Figure size 1080x720 with 1 Axes>"
      ]
     },
     "metadata": {
      "needs_background": "light"
     },
     "output_type": "display_data"
    }
   ],
   "source": [
    "plot = df_master.groupby('dog_stage')['favorite_count'].mean().head(10).sort_values(ascending=False).drop(\"None\")\n",
    "\n",
    "plot.plot(kind='bar', figsize=(15,10), color=sns.color_palette(\"mako\"))\n",
    "\n",
    "plt.title('No.of favorites for each bread')\n",
    "plt.xlabel('Bread')\n",
    "plt.ylabel('No.of favorites');\n",
    "\n"
   ]
  },
  {
   "cell_type": "markdown",
   "metadata": {},
   "source": [
    "### graphically check the relationship between 'retweet_count' and 'favourite_count'"
   ]
  },
  {
   "cell_type": "code",
   "execution_count": 245,
   "metadata": {},
   "outputs": [
    {
     "data": {
      "image/png": "[encoded data removed]",
      "text/plain": [
       "<Figure size 655.2x504 with 1 Axes>"
      ]
     },
     "metadata": {
      "needs_background": "light"
     },
     "output_type": "display_data"
    }
   ],
   "source": [
    "#plotting a graph of favorite vs retweet\n",
    "sns.lmplot(x=\"retweet_count\", \n",
    "           y=\"favorite_count\", \n",
    "           data=df_master,\n",
    "           height = 7,\n",
    "           aspect=1.3,\n",
    "           scatter_kws={'alpha':1/5})\n",
    "plt.title('Favorite Count vs. Retweet Count')\n",
    "plt.xlabel('Retweet Count')\n",
    "plt.ylabel('Favorite Count');"
   ]
  },
  {
   "cell_type": "code",
   "execution_count": 246,
   "metadata": {},
   "outputs": [
    {
     "name": "stdout",
     "output_type": "stream",
     "text": [
      "the image with the highest favorite_count :\n"
     ]
    },
    {
     "data": {
      "text/html": [
       "<img src=\"https://pbs.twimg.com/media/C2tugXLXgAArJO4.jpg\" width=\"250\" height=\"250\"/>"
      ],
      "text/plain": [
       "<IPython.core.display.Image object>"
      ]
     },
     "execution_count": 246,
     "metadata": {},
     "output_type": "execute_result"
    }
   ],
   "source": [
    "from IPython.display import Image\n",
    "from IPython.core.display import HTML \n",
    "\n",
    "\n",
    "\n",
    "max_v= df_master.favorite_count.max()\n",
    "im_url= df_master[df_master['favorite_count']==max_v]['jpg_url']\n",
    "print ('the image with the highest favorite_count :')\n",
    "Image(url= \"https://pbs.twimg.com/media/C2tugXLXgAArJO4.jpg\",width=250, height=250)"
   ]
  },
  {
   "cell_type": "code",
   "execution_count": 247,
   "metadata": {},
   "outputs": [
    {
     "name": "stdout",
     "output_type": "stream",
     "text": [
      "the image with the highest rating_numerator:\n"
     ]
    },
    {
     "data": {
      "text/html": [
       "<img src=\"https://pbs.twimg.com/media/CmgBZ7kWcAAlzFD.jpg\" width=\"250\" height=\"250\"/>"
      ],
      "text/plain": [
       "<IPython.core.display.Image object>"
      ]
     },
     "execution_count": 247,
     "metadata": {},
     "output_type": "execute_result"
    }
   ],
   "source": [
    "max_r= df_master.rating_numerator.max()\n",
    "im_url= df_master[df_master['rating_numerator']==max_r]['jpg_url']\n",
    "print ('the image with the highest rating_numerator:')\n",
    "Image(url= \"https://pbs.twimg.com/media/CmgBZ7kWcAAlzFD.jpg\",width=250, height=250)"
   ]
  },
  {
   "cell_type": "code",
   "execution_count": null,
   "metadata": {},
   "outputs": [],
   "source": []
  }
 ],
 "metadata": {
  "kernelspec": {
   "display_name": "Python 3",
   "language": "python",
   "name": "python3"
  },
  "language_info": {
   "codemirror_mode": {
    "name": "ipython",
    "version": 3
   },
   "file_extension": ".py",
   "mimetype": "text/x-python",
   "name": "python",
   "nbconvert_exporter": "python",
   "pygments_lexer": "ipython3",
   "version": "3.8.5"
  }
 },
 "nbformat": 4,
 "nbformat_minor": 4
}
